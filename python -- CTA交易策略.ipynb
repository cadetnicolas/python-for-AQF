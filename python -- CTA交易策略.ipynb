{
 "cells": [
  {
   "cell_type": "markdown",
   "metadata": {},
   "source": [
    "# 交易系统（Aberration）——趋势跟踪系统股票"
   ]
  },
  {
   "cell_type": "markdown",
   "metadata": {},
   "source": [
    "## 基本原理"
   ]
  },
  {
   "cell_type": "markdown",
   "metadata": {},
   "source": [
    "股票价格多围绕某一价格波动，当股票价格原理基准价格超过一定幅度则可能形成长期趋势，而短期股价偏离基准价格过多则可能因过渡偏离均值而形成大幅回测甚至趋势终止\n",
    "由此以观察期内标准差得一定倍数作为开仓价或止盈价，采用移动止损方式进行止损构建策略\n",
    "开仓条件\n",
    "当日最高价 > 均价 + 开仓触发倍数 x 观察期内标准差最大值\n",
    "止盈条件\n",
    "当日最高价 > 均价 + 止盈触发倍数 x 观察期内标准差最大值\n",
    "止损条件\n",
    "同样结合了移动止损和固定止损两种止损方式\n",
    "当天最低价 < max(均价， 开仓价 - 止损触发倍数 x 开仓观察期内标准差最大值)\n",
    "注意\n",
    "考虑了开仓当天也触发平仓信号得近似处理\n",
    "用观察期内标准差得最大值开场得原因是：在震荡行情得时候，避免频繁开仓；更加稳定"
   ]
  },
  {
   "cell_type": "code",
   "execution_count": 1,
   "metadata": {},
   "outputs": [],
   "source": [
    "import numpy as np\n",
    "import pandas as pd\n",
    "import matplotlib.pyplot as plt\n",
    "import tushare as ts\n",
    "import matplotlib\n",
    "%matplotlib inline"
   ]
  },
  {
   "cell_type": "markdown",
   "metadata": {},
   "source": [
    "## 策略实现"
   ]
  },
  {
   "cell_type": "markdown",
   "metadata": {},
   "source": [
    "### 策略数据处理"
   ]
  },
  {
   "cell_type": "code",
   "execution_count": 2,
   "metadata": {
    "collapsed": true
   },
   "outputs": [],
   "source": [
    "code = '002397'\n",
    "length = 10  #参考周期长度，用于确定计算标准差及移动平均得周期\n",
    "open_trigger = 0.5  #价格向上偏离均线0.5倍观察期内标准差得最大值开仓\n",
    "stopwin_trigger = 3  #价格向上偏离均线3倍观察期内标准差最大值止盈\n",
    "stoplose_trigger = 1  #移动止损条件，跌破均值止损，开仓价向下偏离观察期内标准差得最大值；"
   ]
  },
  {
   "cell_type": "code",
   "execution_count": 3,
   "metadata": {
    "collapsed": true
   },
   "outputs": [],
   "source": [
    "data = ts.get_k_data(code, '2012-01-01','2017-01-01')"
   ]
  },
  {
   "cell_type": "code",
   "execution_count": 4,
   "metadata": {},
   "outputs": [
    {
     "data": {
      "text/html": [
       "<div>\n",
       "<style scoped>\n",
       "    .dataframe tbody tr th:only-of-type {\n",
       "        vertical-align: middle;\n",
       "    }\n",
       "\n",
       "    .dataframe tbody tr th {\n",
       "        vertical-align: top;\n",
       "    }\n",
       "\n",
       "    .dataframe thead th {\n",
       "        text-align: right;\n",
       "    }\n",
       "</style>\n",
       "<table border=\"1\" class=\"dataframe\">\n",
       "  <thead>\n",
       "    <tr style=\"text-align: right;\">\n",
       "      <th></th>\n",
       "      <th>date</th>\n",
       "      <th>open</th>\n",
       "      <th>close</th>\n",
       "      <th>high</th>\n",
       "      <th>low</th>\n",
       "      <th>volume</th>\n",
       "      <th>code</th>\n",
       "    </tr>\n",
       "  </thead>\n",
       "  <tbody>\n",
       "    <tr>\n",
       "      <th>0</th>\n",
       "      <td>2012-01-04</td>\n",
       "      <td>5.367</td>\n",
       "      <td>5.117</td>\n",
       "      <td>5.367</td>\n",
       "      <td>5.082</td>\n",
       "      <td>1512.0</td>\n",
       "      <td>002397</td>\n",
       "    </tr>\n",
       "    <tr>\n",
       "      <th>1</th>\n",
       "      <td>2012-01-05</td>\n",
       "      <td>5.019</td>\n",
       "      <td>4.892</td>\n",
       "      <td>5.019</td>\n",
       "      <td>4.738</td>\n",
       "      <td>3389.0</td>\n",
       "      <td>002397</td>\n",
       "    </tr>\n",
       "    <tr>\n",
       "      <th>2</th>\n",
       "      <td>2012-01-06</td>\n",
       "      <td>4.744</td>\n",
       "      <td>4.855</td>\n",
       "      <td>4.877</td>\n",
       "      <td>4.632</td>\n",
       "      <td>4425.0</td>\n",
       "      <td>002397</td>\n",
       "    </tr>\n",
       "    <tr>\n",
       "      <th>3</th>\n",
       "      <td>2012-01-09</td>\n",
       "      <td>4.736</td>\n",
       "      <td>4.906</td>\n",
       "      <td>4.916</td>\n",
       "      <td>4.619</td>\n",
       "      <td>2581.0</td>\n",
       "      <td>002397</td>\n",
       "    </tr>\n",
       "    <tr>\n",
       "      <th>4</th>\n",
       "      <td>2012-01-10</td>\n",
       "      <td>4.834</td>\n",
       "      <td>5.074</td>\n",
       "      <td>5.082</td>\n",
       "      <td>4.732</td>\n",
       "      <td>2586.0</td>\n",
       "      <td>002397</td>\n",
       "    </tr>\n",
       "  </tbody>\n",
       "</table>\n",
       "</div>"
      ],
      "text/plain": [
       "         date   open  close   high    low  volume    code\n",
       "0  2012-01-04  5.367  5.117  5.367  5.082  1512.0  002397\n",
       "1  2012-01-05  5.019  4.892  5.019  4.738  3389.0  002397\n",
       "2  2012-01-06  4.744  4.855  4.877  4.632  4425.0  002397\n",
       "3  2012-01-09  4.736  4.906  4.916  4.619  2581.0  002397\n",
       "4  2012-01-10  4.834  5.074  5.082  4.732  2586.0  002397"
      ]
     },
     "execution_count": 4,
     "metadata": {},
     "output_type": "execute_result"
    }
   ],
   "source": [
    "data.head()"
   ]
  },
  {
   "cell_type": "markdown",
   "metadata": {},
   "source": [
    "### 策略数据处理"
   ]
  },
  {
   "cell_type": "code",
   "execution_count": 5,
   "metadata": {
    "collapsed": true
   },
   "outputs": [],
   "source": [
    "data['pct_change'] = data['close'].pct_change()   #计算每日收益"
   ]
  },
  {
   "cell_type": "code",
   "execution_count": 6,
   "metadata": {
    "collapsed": true
   },
   "outputs": [],
   "source": [
    "data['ma'] = data['close'].rolling(window=length, min_periods=3).mean()   #计算10天得平均收益，最小得计算时间为3天"
   ]
  },
  {
   "cell_type": "code",
   "execution_count": 7,
   "metadata": {},
   "outputs": [],
   "source": [
    "data['std'] = data['close'].rolling(window=length, min_periods=3).std()  #计算标准差"
   ]
  },
  {
   "cell_type": "code",
   "execution_count": 8,
   "metadata": {},
   "outputs": [
    {
     "data": {
      "text/html": [
       "<div>\n",
       "<style scoped>\n",
       "    .dataframe tbody tr th:only-of-type {\n",
       "        vertical-align: middle;\n",
       "    }\n",
       "\n",
       "    .dataframe tbody tr th {\n",
       "        vertical-align: top;\n",
       "    }\n",
       "\n",
       "    .dataframe thead th {\n",
       "        text-align: right;\n",
       "    }\n",
       "</style>\n",
       "<table border=\"1\" class=\"dataframe\">\n",
       "  <thead>\n",
       "    <tr style=\"text-align: right;\">\n",
       "      <th></th>\n",
       "      <th>date</th>\n",
       "      <th>open</th>\n",
       "      <th>close</th>\n",
       "      <th>high</th>\n",
       "      <th>low</th>\n",
       "      <th>volume</th>\n",
       "      <th>code</th>\n",
       "      <th>pct_change</th>\n",
       "      <th>ma</th>\n",
       "      <th>std</th>\n",
       "    </tr>\n",
       "  </thead>\n",
       "  <tbody>\n",
       "    <tr>\n",
       "      <th>0</th>\n",
       "      <td>2012-01-04</td>\n",
       "      <td>5.367</td>\n",
       "      <td>5.117</td>\n",
       "      <td>5.367</td>\n",
       "      <td>5.082</td>\n",
       "      <td>1512.0</td>\n",
       "      <td>002397</td>\n",
       "      <td>NaN</td>\n",
       "      <td>NaN</td>\n",
       "      <td>NaN</td>\n",
       "    </tr>\n",
       "    <tr>\n",
       "      <th>1</th>\n",
       "      <td>2012-01-05</td>\n",
       "      <td>5.019</td>\n",
       "      <td>4.892</td>\n",
       "      <td>5.019</td>\n",
       "      <td>4.738</td>\n",
       "      <td>3389.0</td>\n",
       "      <td>002397</td>\n",
       "      <td>-0.043971</td>\n",
       "      <td>NaN</td>\n",
       "      <td>NaN</td>\n",
       "    </tr>\n",
       "    <tr>\n",
       "      <th>2</th>\n",
       "      <td>2012-01-06</td>\n",
       "      <td>4.744</td>\n",
       "      <td>4.855</td>\n",
       "      <td>4.877</td>\n",
       "      <td>4.632</td>\n",
       "      <td>4425.0</td>\n",
       "      <td>002397</td>\n",
       "      <td>-0.007563</td>\n",
       "      <td>4.954667</td>\n",
       "      <td>0.141797</td>\n",
       "    </tr>\n",
       "    <tr>\n",
       "      <th>3</th>\n",
       "      <td>2012-01-09</td>\n",
       "      <td>4.736</td>\n",
       "      <td>4.906</td>\n",
       "      <td>4.916</td>\n",
       "      <td>4.619</td>\n",
       "      <td>2581.0</td>\n",
       "      <td>002397</td>\n",
       "      <td>0.010505</td>\n",
       "      <td>4.942500</td>\n",
       "      <td>0.118306</td>\n",
       "    </tr>\n",
       "    <tr>\n",
       "      <th>4</th>\n",
       "      <td>2012-01-10</td>\n",
       "      <td>4.834</td>\n",
       "      <td>5.074</td>\n",
       "      <td>5.082</td>\n",
       "      <td>4.732</td>\n",
       "      <td>2586.0</td>\n",
       "      <td>002397</td>\n",
       "      <td>0.034244</td>\n",
       "      <td>4.968800</td>\n",
       "      <td>0.118134</td>\n",
       "    </tr>\n",
       "  </tbody>\n",
       "</table>\n",
       "</div>"
      ],
      "text/plain": [
       "         date   open  close   high    low  volume    code  pct_change  \\\n",
       "0  2012-01-04  5.367  5.117  5.367  5.082  1512.0  002397         NaN   \n",
       "1  2012-01-05  5.019  4.892  5.019  4.738  3389.0  002397   -0.043971   \n",
       "2  2012-01-06  4.744  4.855  4.877  4.632  4425.0  002397   -0.007563   \n",
       "3  2012-01-09  4.736  4.906  4.916  4.619  2581.0  002397    0.010505   \n",
       "4  2012-01-10  4.834  5.074  5.082  4.732  2586.0  002397    0.034244   \n",
       "\n",
       "         ma       std  \n",
       "0       NaN       NaN  \n",
       "1       NaN       NaN  \n",
       "2  4.954667  0.141797  \n",
       "3  4.942500  0.118306  \n",
       "4  4.968800  0.118134  "
      ]
     },
     "execution_count": 8,
     "metadata": {},
     "output_type": "execute_result"
    }
   ],
   "source": [
    "data.head()"
   ]
  },
  {
   "cell_type": "code",
   "execution_count": 9,
   "metadata": {},
   "outputs": [],
   "source": [
    "data['std_limit'] = data['std'].rolling(window=length).max()   #观察期内标准差最大值"
   ]
  },
  {
   "cell_type": "markdown",
   "metadata": {},
   "source": [
    "由于当天得实盘数据日线级别参考指标未实现，因此应使用昨日参考指标指导当日交易"
   ]
  },
  {
   "cell_type": "code",
   "execution_count": 10,
   "metadata": {
    "collapsed": true
   },
   "outputs": [],
   "source": [
    "data['yes_ma'] = data['ma'].shift(1)\n",
    "data['yes_std_limit'] = data['std_limit'].shift(1)"
   ]
  },
  {
   "cell_type": "markdown",
   "metadata": {},
   "source": [
    "计算当日开仓价和止盈价"
   ]
  },
  {
   "cell_type": "code",
   "execution_count": 11,
   "metadata": {
    "collapsed": true
   },
   "outputs": [],
   "source": [
    "data['long_open_price'] = data['yes_ma'] + data['yes_std_limit']*open_trigger   #计算每一天满足条件得开仓价"
   ]
  },
  {
   "cell_type": "code",
   "execution_count": 12,
   "metadata": {
    "collapsed": true
   },
   "outputs": [],
   "source": [
    "data['long_stopwin_price'] = data['yes_ma'] + data['yes_std_limit']*stopwin_trigger  #计算每一天满足条件得止盈价"
   ]
  },
  {
   "cell_type": "code",
   "execution_count": 13,
   "metadata": {},
   "outputs": [
    {
     "data": {
      "text/html": [
       "<div>\n",
       "<style scoped>\n",
       "    .dataframe tbody tr th:only-of-type {\n",
       "        vertical-align: middle;\n",
       "    }\n",
       "\n",
       "    .dataframe tbody tr th {\n",
       "        vertical-align: top;\n",
       "    }\n",
       "\n",
       "    .dataframe thead th {\n",
       "        text-align: right;\n",
       "    }\n",
       "</style>\n",
       "<table border=\"1\" class=\"dataframe\">\n",
       "  <thead>\n",
       "    <tr style=\"text-align: right;\">\n",
       "      <th></th>\n",
       "      <th>date</th>\n",
       "      <th>pct_change</th>\n",
       "      <th>ma</th>\n",
       "      <th>std</th>\n",
       "      <th>yes_std_limit</th>\n",
       "      <th>long_open_price</th>\n",
       "      <th>long_stopwin_price</th>\n",
       "    </tr>\n",
       "  </thead>\n",
       "  <tbody>\n",
       "    <tr>\n",
       "      <th>10</th>\n",
       "      <td>2012-01-18</td>\n",
       "      <td>-0.021915</td>\n",
       "      <td>4.6869</td>\n",
       "      <td>0.327988</td>\n",
       "      <td>NaN</td>\n",
       "      <td>NaN</td>\n",
       "      <td>NaN</td>\n",
       "    </tr>\n",
       "    <tr>\n",
       "      <th>11</th>\n",
       "      <td>2012-01-19</td>\n",
       "      <td>0.033019</td>\n",
       "      <td>4.6357</td>\n",
       "      <td>0.332347</td>\n",
       "      <td>NaN</td>\n",
       "      <td>NaN</td>\n",
       "      <td>NaN</td>\n",
       "    </tr>\n",
       "    <tr>\n",
       "      <th>12</th>\n",
       "      <td>2012-01-20</td>\n",
       "      <td>0.017580</td>\n",
       "      <td>4.5959</td>\n",
       "      <td>0.326954</td>\n",
       "      <td>0.332347</td>\n",
       "      <td>4.801873</td>\n",
       "      <td>5.632741</td>\n",
       "    </tr>\n",
       "    <tr>\n",
       "      <th>13</th>\n",
       "      <td>2012-01-30</td>\n",
       "      <td>-0.007180</td>\n",
       "      <td>4.5478</td>\n",
       "      <td>0.311270</td>\n",
       "      <td>0.332347</td>\n",
       "      <td>4.762073</td>\n",
       "      <td>5.592941</td>\n",
       "    </tr>\n",
       "    <tr>\n",
       "      <th>14</th>\n",
       "      <td>2012-01-31</td>\n",
       "      <td>0.000000</td>\n",
       "      <td>4.4829</td>\n",
       "      <td>0.251235</td>\n",
       "      <td>0.332347</td>\n",
       "      <td>4.713973</td>\n",
       "      <td>5.544841</td>\n",
       "    </tr>\n",
       "    <tr>\n",
       "      <th>15</th>\n",
       "      <td>2012-02-01</td>\n",
       "      <td>-0.014011</td>\n",
       "      <td>4.4208</td>\n",
       "      <td>0.180365</td>\n",
       "      <td>0.332347</td>\n",
       "      <td>4.649073</td>\n",
       "      <td>5.479941</td>\n",
       "    </tr>\n",
       "  </tbody>\n",
       "</table>\n",
       "</div>"
      ],
      "text/plain": [
       "          date  pct_change      ma       std  yes_std_limit  long_open_price  \\\n",
       "10  2012-01-18   -0.021915  4.6869  0.327988            NaN              NaN   \n",
       "11  2012-01-19    0.033019  4.6357  0.332347            NaN              NaN   \n",
       "12  2012-01-20    0.017580  4.5959  0.326954       0.332347         4.801873   \n",
       "13  2012-01-30   -0.007180  4.5478  0.311270       0.332347         4.762073   \n",
       "14  2012-01-31    0.000000  4.4829  0.251235       0.332347         4.713973   \n",
       "15  2012-02-01   -0.014011  4.4208  0.180365       0.332347         4.649073   \n",
       "\n",
       "    long_stopwin_price  \n",
       "10                 NaN  \n",
       "11                 NaN  \n",
       "12            5.632741  \n",
       "13            5.592941  \n",
       "14            5.544841  \n",
       "15            5.479941  "
      ]
     },
     "execution_count": 13,
     "metadata": {},
     "output_type": "execute_result"
    }
   ],
   "source": [
    "data.loc[10:15, ['date','pct_change','ma','std','yes_std_limit','long_open_price','long_stopwin_price']]"
   ]
  },
  {
   "cell_type": "markdown",
   "metadata": {},
   "source": [
    "计算开仓信号和止盈信号"
   ]
  },
  {
   "cell_type": "code",
   "execution_count": 14,
   "metadata": {
    "collapsed": true
   },
   "outputs": [],
   "source": [
    "data['long_open_signal'] = np.where(data['high'] > data['long_open_price'], 1, 0)   #最高价大于开仓价"
   ]
  },
  {
   "cell_type": "code",
   "execution_count": 15,
   "metadata": {
    "collapsed": true
   },
   "outputs": [],
   "source": [
    "data['long_stopwin_signal'] = np.where(data['high'] > data['long_stopwin_price'], 1, 0)  #最高价大于止盈价"
   ]
  },
  {
   "cell_type": "code",
   "execution_count": 16,
   "metadata": {
    "scrolled": true
   },
   "outputs": [
    {
     "data": {
      "text/html": [
       "<div>\n",
       "<style scoped>\n",
       "    .dataframe tbody tr th:only-of-type {\n",
       "        vertical-align: middle;\n",
       "    }\n",
       "\n",
       "    .dataframe tbody tr th {\n",
       "        vertical-align: top;\n",
       "    }\n",
       "\n",
       "    .dataframe thead th {\n",
       "        text-align: right;\n",
       "    }\n",
       "</style>\n",
       "<table border=\"1\" class=\"dataframe\">\n",
       "  <thead>\n",
       "    <tr style=\"text-align: right;\">\n",
       "      <th></th>\n",
       "      <th>date</th>\n",
       "      <th>long_open_signal</th>\n",
       "      <th>long_stopwin_signal</th>\n",
       "    </tr>\n",
       "  </thead>\n",
       "  <tbody>\n",
       "    <tr>\n",
       "      <th>0</th>\n",
       "      <td>2012-01-04</td>\n",
       "      <td>0</td>\n",
       "      <td>0</td>\n",
       "    </tr>\n",
       "    <tr>\n",
       "      <th>1</th>\n",
       "      <td>2012-01-05</td>\n",
       "      <td>0</td>\n",
       "      <td>0</td>\n",
       "    </tr>\n",
       "    <tr>\n",
       "      <th>2</th>\n",
       "      <td>2012-01-06</td>\n",
       "      <td>0</td>\n",
       "      <td>0</td>\n",
       "    </tr>\n",
       "    <tr>\n",
       "      <th>3</th>\n",
       "      <td>2012-01-09</td>\n",
       "      <td>0</td>\n",
       "      <td>0</td>\n",
       "    </tr>\n",
       "    <tr>\n",
       "      <th>4</th>\n",
       "      <td>2012-01-10</td>\n",
       "      <td>0</td>\n",
       "      <td>0</td>\n",
       "    </tr>\n",
       "  </tbody>\n",
       "</table>\n",
       "</div>"
      ],
      "text/plain": [
       "         date  long_open_signal  long_stopwin_signal\n",
       "0  2012-01-04                 0                    0\n",
       "1  2012-01-05                 0                    0\n",
       "2  2012-01-06                 0                    0\n",
       "3  2012-01-09                 0                    0\n",
       "4  2012-01-10                 0                    0"
      ]
     },
     "execution_count": 16,
     "metadata": {},
     "output_type": "execute_result"
    }
   ],
   "source": [
    "data[['date','long_open_signal','long_stopwin_signal']].head()"
   ]
  },
  {
   "cell_type": "markdown",
   "metadata": {},
   "source": [
    "## 策略逻辑"
   ]
  },
  {
   "cell_type": "markdown",
   "metadata": {},
   "source": [
    "策略要点：\n",
    "\n",
    "1，当天有持仓，满足平仓条件惊醒平仓后，当天不再开仓\n",
    "2，当天无持仓，满足开仓条件之后进行开仓，开仓当日如果同时满足平仓条件，以第二开盘价平仓"
   ]
  },
  {
   "cell_type": "code",
   "execution_count": 17,
   "metadata": {
    "collapsed": true
   },
   "outputs": [],
   "source": [
    "flag = 0 #记录持仓情况，1代表持仓，0代表空仓"
   ]
  },
  {
   "cell_type": "code",
   "execution_count": 22,
   "metadata": {
    "code_folding": []
   },
   "outputs": [],
   "source": [
    "# 前12个数据因均值计算无效所以不做为待处理数据\n",
    "# 终止数据选择倒数第二个以防止当天止盈情况会以第二天开盘价平仓导致无数据情况发生\n",
    "# 最后一天不再进行操作，可能会面临最后一天开仓之后当天触发平仓，要用到下一天开盘价卖出，无法得到\n",
    "\n",
    "for i in range(12, (len(data) - 1)):\n",
    "    # 判断持仓条件，有持仓就进行平仓\n",
    "    if flag == 1:\n",
    "        #计算止损价格，取均线和开仓价格下移一倍标准差，两者得最大值最为止损价\n",
    "        stoplose_price = max(\n",
    "            data.loc[i, 'yes_ma'],\n",
    "            long_open_price - long_open_delta * stoplose_trigger)\n",
    "        # 多头止盈并计算当日收益\n",
    "        if data.loc[i, 'long_stopwin_signal']:\n",
    "            data.loc[i, 'return'] = data.loc[\n",
    "                i, 'long_stopwin_price'] / data.loc[i - 1, 'close'] - 1\n",
    "            flag = 0\n",
    "        # 多头移动止损，并计算当日收益\n",
    "        elif data.loc[i, 'low'] < stoplose_price:\n",
    "            # 考虑当天开盘价下雨止损价，无法止损得情况\n",
    "            # 考虑实际请情况，采用开盘价和止损价得最小值\n",
    "            data.loc[i, 'return'] = min(data.loc[i, 'open'], stoplose_price\n",
    "                                        ) / data.loc[i - 1, 'close'] - 1\n",
    "            flag = 0\n",
    "\n",
    "        else:\n",
    "            #持仓时计算当天得收益\n",
    "            data.loc[i, 'return'] = data.loc[i, 'close'] / data.loc[\n",
    "                i - 1, 'close'] - 1\n",
    "\n",
    "    # 无持仓的操作\n",
    "    else:\n",
    "        # 判断是否满足开仓条件\n",
    "        if data.loc[i, 'long_open_signal']:\n",
    "            #开仓时标记flag=1\n",
    "            flag = 1\n",
    "            #需要比较当天开盘价和开仓价，如果开盘价高于开仓价，只能以开盘价进行开仓，否则会造成收益高估\n",
    "            #记录开仓价\n",
    "            #存在跳空高开的情况，有可能取不到long_open_price\n",
    "            long_open_price = max(data.loc[i, 'open'],\n",
    "                                  data.loc[i, 'long_open_price'])\n",
    "            #记录开仓10日内的标准差最大值\n",
    "            long_open_delta = data.loc[i, 'yes_std_limit']\n",
    "            #记录开仓当天的收益\n",
    "            data.loc[i, 'return'] = data.loc[i, 'close'] / long_open_price - 1\n",
    "\n",
    "            #开仓当天就要计算止损价格，看是否满足止损\n",
    "            #计算止损价格，多头移动止损，以均线和开仓价减一定倍数标准差，两者的最大值作为止损点\n",
    "            stoplose_price = max(\n",
    "                data.loc[i, 'yes_ma'],\n",
    "                long_open_price - long_open_delta * stoplose_trigger)\n",
    "            #如果开仓当天同时满足平仓条件，则以第二天开盘价平仓\n",
    "            #这里做了一个简单的近似处理\n",
    "            if (data.loc[i, 'low'] < stoplose_price\n",
    "                    or data.loc[i, 'long_stopwin_signal']):  #满足止损，止盈条件\n",
    "                #记录此次操作盈利情况并将收益记录在开仓日\n",
    "                data.loc[i, 'return'] = data.loc[i + 1,\n",
    "                                                 'open'] / long_open_price - 1\n",
    "                flag = 0"
   ]
  },
  {
   "cell_type": "code",
   "execution_count": 23,
   "metadata": {},
   "outputs": [
    {
     "data": {
      "text/html": [
       "<div>\n",
       "<style scoped>\n",
       "    .dataframe tbody tr th:only-of-type {\n",
       "        vertical-align: middle;\n",
       "    }\n",
       "\n",
       "    .dataframe tbody tr th {\n",
       "        vertical-align: top;\n",
       "    }\n",
       "\n",
       "    .dataframe thead th {\n",
       "        text-align: right;\n",
       "    }\n",
       "</style>\n",
       "<table border=\"1\" class=\"dataframe\">\n",
       "  <thead>\n",
       "    <tr style=\"text-align: right;\">\n",
       "      <th></th>\n",
       "      <th>date</th>\n",
       "      <th>open</th>\n",
       "      <th>close</th>\n",
       "      <th>high</th>\n",
       "      <th>low</th>\n",
       "      <th>volume</th>\n",
       "      <th>code</th>\n",
       "      <th>pct_change</th>\n",
       "      <th>ma</th>\n",
       "      <th>std</th>\n",
       "      <th>std_limit</th>\n",
       "      <th>yes_ma</th>\n",
       "      <th>yes_std_limit</th>\n",
       "      <th>long_open_price</th>\n",
       "      <th>long_stopwin_price</th>\n",
       "      <th>long_open_signal</th>\n",
       "      <th>long_stopwin_signal</th>\n",
       "      <th>return</th>\n",
       "      <th>strategy_return</th>\n",
       "      <th>stock_return</th>\n",
       "    </tr>\n",
       "  </thead>\n",
       "  <tbody>\n",
       "    <tr>\n",
       "      <th>1200</th>\n",
       "      <td>2016-12-26</td>\n",
       "      <td>7.868</td>\n",
       "      <td>7.927</td>\n",
       "      <td>7.956</td>\n",
       "      <td>7.781</td>\n",
       "      <td>22182.0</td>\n",
       "      <td>002397</td>\n",
       "      <td>0.006220</td>\n",
       "      <td>7.9801</td>\n",
       "      <td>0.080473</td>\n",
       "      <td>0.432141</td>\n",
       "      <td>7.9752</td>\n",
       "      <td>0.432141</td>\n",
       "      <td>8.191270</td>\n",
       "      <td>9.271622</td>\n",
       "      <td>0</td>\n",
       "      <td>0</td>\n",
       "      <td>0.0</td>\n",
       "      <td>2.429878e+102</td>\n",
       "      <td>1.549150</td>\n",
       "    </tr>\n",
       "    <tr>\n",
       "      <th>1201</th>\n",
       "      <td>2016-12-27</td>\n",
       "      <td>7.936</td>\n",
       "      <td>7.946</td>\n",
       "      <td>7.985</td>\n",
       "      <td>7.907</td>\n",
       "      <td>14229.0</td>\n",
       "      <td>002397</td>\n",
       "      <td>0.002397</td>\n",
       "      <td>7.9850</td>\n",
       "      <td>0.076231</td>\n",
       "      <td>0.432141</td>\n",
       "      <td>7.9801</td>\n",
       "      <td>0.432141</td>\n",
       "      <td>8.196170</td>\n",
       "      <td>9.276522</td>\n",
       "      <td>0</td>\n",
       "      <td>0</td>\n",
       "      <td>0.0</td>\n",
       "      <td>2.429878e+102</td>\n",
       "      <td>1.552863</td>\n",
       "    </tr>\n",
       "    <tr>\n",
       "      <th>1202</th>\n",
       "      <td>2016-12-28</td>\n",
       "      <td>7.936</td>\n",
       "      <td>7.888</td>\n",
       "      <td>7.985</td>\n",
       "      <td>7.859</td>\n",
       "      <td>16192.0</td>\n",
       "      <td>002397</td>\n",
       "      <td>-0.007299</td>\n",
       "      <td>7.9870</td>\n",
       "      <td>0.073014</td>\n",
       "      <td>0.364439</td>\n",
       "      <td>7.9850</td>\n",
       "      <td>0.432141</td>\n",
       "      <td>8.201070</td>\n",
       "      <td>9.281422</td>\n",
       "      <td>0</td>\n",
       "      <td>0</td>\n",
       "      <td>0.0</td>\n",
       "      <td>2.429878e+102</td>\n",
       "      <td>1.541528</td>\n",
       "    </tr>\n",
       "    <tr>\n",
       "      <th>1203</th>\n",
       "      <td>2016-12-29</td>\n",
       "      <td>7.859</td>\n",
       "      <td>7.897</td>\n",
       "      <td>7.946</td>\n",
       "      <td>7.859</td>\n",
       "      <td>13150.0</td>\n",
       "      <td>002397</td>\n",
       "      <td>0.001141</td>\n",
       "      <td>7.9772</td>\n",
       "      <td>0.078213</td>\n",
       "      <td>0.259450</td>\n",
       "      <td>7.9870</td>\n",
       "      <td>0.364439</td>\n",
       "      <td>8.169219</td>\n",
       "      <td>9.080317</td>\n",
       "      <td>0</td>\n",
       "      <td>0</td>\n",
       "      <td>0.0</td>\n",
       "      <td>2.429878e+102</td>\n",
       "      <td>1.543287</td>\n",
       "    </tr>\n",
       "    <tr>\n",
       "      <th>1204</th>\n",
       "      <td>2016-12-30</td>\n",
       "      <td>7.897</td>\n",
       "      <td>7.878</td>\n",
       "      <td>7.927</td>\n",
       "      <td>7.859</td>\n",
       "      <td>11531.0</td>\n",
       "      <td>002397</td>\n",
       "      <td>-0.002406</td>\n",
       "      <td>7.9577</td>\n",
       "      <td>0.075950</td>\n",
       "      <td>0.228144</td>\n",
       "      <td>7.9772</td>\n",
       "      <td>0.259450</td>\n",
       "      <td>8.106925</td>\n",
       "      <td>8.755551</td>\n",
       "      <td>0</td>\n",
       "      <td>0</td>\n",
       "      <td>0.0</td>\n",
       "      <td>2.429878e+102</td>\n",
       "      <td>1.539574</td>\n",
       "    </tr>\n",
       "  </tbody>\n",
       "</table>\n",
       "</div>"
      ],
      "text/plain": [
       "            date   open  close   high    low   volume    code  pct_change  \\\n",
       "1200  2016-12-26  7.868  7.927  7.956  7.781  22182.0  002397    0.006220   \n",
       "1201  2016-12-27  7.936  7.946  7.985  7.907  14229.0  002397    0.002397   \n",
       "1202  2016-12-28  7.936  7.888  7.985  7.859  16192.0  002397   -0.007299   \n",
       "1203  2016-12-29  7.859  7.897  7.946  7.859  13150.0  002397    0.001141   \n",
       "1204  2016-12-30  7.897  7.878  7.927  7.859  11531.0  002397   -0.002406   \n",
       "\n",
       "          ma       std  std_limit  yes_ma  yes_std_limit  long_open_price  \\\n",
       "1200  7.9801  0.080473   0.432141  7.9752       0.432141         8.191270   \n",
       "1201  7.9850  0.076231   0.432141  7.9801       0.432141         8.196170   \n",
       "1202  7.9870  0.073014   0.364439  7.9850       0.432141         8.201070   \n",
       "1203  7.9772  0.078213   0.259450  7.9870       0.364439         8.169219   \n",
       "1204  7.9577  0.075950   0.228144  7.9772       0.259450         8.106925   \n",
       "\n",
       "      long_stopwin_price  long_open_signal  long_stopwin_signal  return  \\\n",
       "1200            9.271622                 0                    0     0.0   \n",
       "1201            9.276522                 0                    0     0.0   \n",
       "1202            9.281422                 0                    0     0.0   \n",
       "1203            9.080317                 0                    0     0.0   \n",
       "1204            8.755551                 0                    0     0.0   \n",
       "\n",
       "      strategy_return  stock_return  \n",
       "1200    2.429878e+102      1.549150  \n",
       "1201    2.429878e+102      1.552863  \n",
       "1202    2.429878e+102      1.541528  \n",
       "1203    2.429878e+102      1.543287  \n",
       "1204    2.429878e+102      1.539574  "
      ]
     },
     "execution_count": 23,
     "metadata": {},
     "output_type": "execute_result"
    }
   ],
   "source": [
    "data.tail()"
   ]
  },
  {
   "cell_type": "markdown",
   "metadata": {},
   "source": [
    "## 计算策略收益并可视化"
   ]
  },
  {
   "cell_type": "code",
   "execution_count": 24,
   "metadata": {
    "collapsed": true
   },
   "outputs": [],
   "source": [
    "data['return'].fillna(0, inplace=True)\n",
    "data['strategy_return'] = (data['return'] + 1).cumprod()\n",
    "data['stock_return'] = (data['pct_change'] + 1).cumprod()"
   ]
  },
  {
   "cell_type": "code",
   "execution_count": 25,
   "metadata": {},
   "outputs": [
    {
     "data": {
      "image/png": "[encoded data removed]",
      "text/plain": [
       "<Figure size 720x360 with 1 Axes>"
      ]
     },
     "metadata": {},
     "output_type": "display_data"
    }
   ],
   "source": [
    "matplotlib.style.use('ggplot')\n",
    "fig = plt.figure(figsize=(10,5))\n",
    "ax = fig.add_subplot(1,1,1)\n",
    "ax.plot(data.stock_return)\n",
    "ax.plot(data.strategy_return)\n",
    "plt.title(code)\n",
    "plt.legend()\n",
    "plt.show()"
   ]
  },
  {
   "cell_type": "markdown",
   "metadata": {},
   "source": [
    "## 策略与实盘差异"
   ]
  },
  {
   "cell_type": "markdown",
   "metadata": {},
   "source": [
    "未考虑滑点"
   ]
  },
  {
   "cell_type": "markdown",
   "metadata": {},
   "source": [
    "未考虑交易费用"
   ]
  },
  {
   "cell_type": "markdown",
   "metadata": {},
   "source": [
    "期望开仓价是否执行"
   ]
  },
  {
   "cell_type": "markdown",
   "metadata": {},
   "source": [
    "期望止损价是否执行"
   ]
  }
 ],
 "metadata": {
  "kernelspec": {
   "display_name": "Python [default]",
   "language": "python",
   "name": "python3"
  },
  "language_info": {
   "codemirror_mode": {
    "name": "ipython",
    "version": 3
   },
   "file_extension": ".py",
   "mimetype": "text/x-python",
   "name": "python",
   "nbconvert_exporter": "python",
   "pygments_lexer": "ipython3",
   "version": "3.6.2"
  }
 },
 "nbformat": 4,
 "nbformat_minor": 2
}
