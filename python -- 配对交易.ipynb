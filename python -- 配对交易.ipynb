{
 "cells": [
  {
   "cell_type": "markdown",
   "metadata": {},
   "source": [
    "# 配对交易 -- pair trading"
   ]
  },
  {
   "cell_type": "markdown",
   "metadata": {},
   "source": [
    "股价变化stationay\n",
    "股价变化 Non-Stationay的时候\n",
    "1；差分（观察股价变化率，一介）\n",
    "2：协整，相对stationay，满足一定的线性关系(aX + bY = c)\n",
    "策略关键，找到相关关系"
   ]
  },
  {
   "cell_type": "markdown",
   "metadata": {},
   "source": [
    "判断股价是否stationary\n",
    "AR：auto regression 拿昨天的自己预测今天的自己\n",
    "unit root单位根检验：y(t) = b+cy(t-1)+a（随机数） \n",
    "看b是否等于1，如果b=1，则认为y是non-stationary的，因为此时y的股价需要根据前一天的股价加上另外一个随机数才能得到，不可预测\n",
    "DF检验：判断c>1 or 0<c<1\n",
    "0<c<1 则认为是收敛的，c>1则认为是发散的\n",
    "ADF检验：高阶自回归，以多天前的数据预测今天"
   ]
  },
  {
   "cell_type": "code",
   "execution_count": 1,
   "metadata": {
    "collapsed": true
   },
   "outputs": [],
   "source": [
    "import pandas as pd \n",
    "import numpy as np\n",
    "import tushare as ts\n",
    "import seaborn as sns\n",
    "import matplotlib.pyplot as plt\n",
    "import warnings;warnings.simplefilter('ignore')\n",
    "%matplotlib inline\n",
    "stocks_pair=['600199','600702']"
   ]
  },
  {
   "cell_type": "markdown",
   "metadata": {},
   "source": [
    "## 数据准备&回测准备"
   ]
  },
  {
   "cell_type": "code",
   "execution_count": 2,
   "metadata": {},
   "outputs": [
    {
     "data": {
      "text/html": [
       "<div>\n",
       "<style scoped>\n",
       "    .dataframe tbody tr th:only-of-type {\n",
       "        vertical-align: middle;\n",
       "    }\n",
       "\n",
       "    .dataframe tbody tr th {\n",
       "        vertical-align: top;\n",
       "    }\n",
       "\n",
       "    .dataframe thead th {\n",
       "        text-align: right;\n",
       "    }\n",
       "</style>\n",
       "<table border=\"1\" class=\"dataframe\">\n",
       "  <thead>\n",
       "    <tr style=\"text-align: right;\">\n",
       "      <th></th>\n",
       "      <th>date</th>\n",
       "      <th>close</th>\n",
       "    </tr>\n",
       "  </thead>\n",
       "  <tbody>\n",
       "    <tr>\n",
       "      <th>0</th>\n",
       "      <td>2018-01-02</td>\n",
       "      <td>7.758</td>\n",
       "    </tr>\n",
       "    <tr>\n",
       "      <th>1</th>\n",
       "      <td>2018-01-03</td>\n",
       "      <td>7.808</td>\n",
       "    </tr>\n",
       "    <tr>\n",
       "      <th>2</th>\n",
       "      <td>2018-01-04</td>\n",
       "      <td>7.897</td>\n",
       "    </tr>\n",
       "    <tr>\n",
       "      <th>3</th>\n",
       "      <td>2018-01-05</td>\n",
       "      <td>7.847</td>\n",
       "    </tr>\n",
       "    <tr>\n",
       "      <th>4</th>\n",
       "      <td>2018-01-08</td>\n",
       "      <td>7.897</td>\n",
       "    </tr>\n",
       "  </tbody>\n",
       "</table>\n",
       "</div>"
      ],
      "text/plain": [
       "         date  close\n",
       "0  2018-01-02  7.758\n",
       "1  2018-01-03  7.808\n",
       "2  2018-01-04  7.897\n",
       "3  2018-01-05  7.847\n",
       "4  2018-01-08  7.897"
      ]
     },
     "execution_count": 2,
     "metadata": {},
     "output_type": "execute_result"
    }
   ],
   "source": [
    "data1 = ts.get_k_data('600199','2018-01-01','2019-05-31')[['date','close']]\n",
    "data1.head()"
   ]
  },
  {
   "cell_type": "code",
   "execution_count": 9,
   "metadata": {},
   "outputs": [
    {
     "data": {
      "text/plain": [
       "0    45.771\n",
       "1    45.442\n",
       "2    45.861\n",
       "3    45.242\n",
       "4    43.874\n",
       "Name: close, dtype: float64"
      ]
     },
     "execution_count": 9,
     "metadata": {},
     "output_type": "execute_result"
    }
   ],
   "source": [
    "data2 = ts.get_k_data('600702','2018-01-01','2019-05-31')['close']\n",
    "data2.head()"
   ]
  },
  {
   "cell_type": "code",
   "execution_count": 10,
   "metadata": {
    "scrolled": true
   },
   "outputs": [
    {
     "data": {
      "text/html": [
       "<div>\n",
       "<style scoped>\n",
       "    .dataframe tbody tr th:only-of-type {\n",
       "        vertical-align: middle;\n",
       "    }\n",
       "\n",
       "    .dataframe tbody tr th {\n",
       "        vertical-align: top;\n",
       "    }\n",
       "\n",
       "    .dataframe thead th {\n",
       "        text-align: right;\n",
       "    }\n",
       "</style>\n",
       "<table border=\"1\" class=\"dataframe\">\n",
       "  <thead>\n",
       "    <tr style=\"text-align: right;\">\n",
       "      <th></th>\n",
       "      <th>date</th>\n",
       "      <th>close</th>\n",
       "      <th>close</th>\n",
       "    </tr>\n",
       "  </thead>\n",
       "  <tbody>\n",
       "    <tr>\n",
       "      <th>0</th>\n",
       "      <td>2018-01-02</td>\n",
       "      <td>7.758</td>\n",
       "      <td>45.771</td>\n",
       "    </tr>\n",
       "    <tr>\n",
       "      <th>1</th>\n",
       "      <td>2018-01-03</td>\n",
       "      <td>7.808</td>\n",
       "      <td>45.442</td>\n",
       "    </tr>\n",
       "    <tr>\n",
       "      <th>2</th>\n",
       "      <td>2018-01-04</td>\n",
       "      <td>7.897</td>\n",
       "      <td>45.861</td>\n",
       "    </tr>\n",
       "    <tr>\n",
       "      <th>3</th>\n",
       "      <td>2018-01-05</td>\n",
       "      <td>7.847</td>\n",
       "      <td>45.242</td>\n",
       "    </tr>\n",
       "    <tr>\n",
       "      <th>4</th>\n",
       "      <td>2018-01-08</td>\n",
       "      <td>7.897</td>\n",
       "      <td>43.874</td>\n",
       "    </tr>\n",
       "  </tbody>\n",
       "</table>\n",
       "</div>"
      ],
      "text/plain": [
       "         date  close   close\n",
       "0  2018-01-02  7.758  45.771\n",
       "1  2018-01-03  7.808  45.442\n",
       "2  2018-01-04  7.897  45.861\n",
       "3  2018-01-05  7.847  45.242\n",
       "4  2018-01-08  7.897  43.874"
      ]
     },
     "execution_count": 10,
     "metadata": {},
     "output_type": "execute_result"
    }
   ],
   "source": [
    "data = pd.concat([data1, data2], axis=1)     #数据拼接\n",
    "data.head()"
   ]
  },
  {
   "cell_type": "code",
   "execution_count": 11,
   "metadata": {
    "collapsed": true
   },
   "outputs": [],
   "source": [
    "data.set_index('date', inplace=True)\n",
    "data.columns = stocks_pair"
   ]
  },
  {
   "cell_type": "code",
   "execution_count": 12,
   "metadata": {},
   "outputs": [
    {
     "data": {
      "text/html": [
       "<div>\n",
       "<style scoped>\n",
       "    .dataframe tbody tr th:only-of-type {\n",
       "        vertical-align: middle;\n",
       "    }\n",
       "\n",
       "    .dataframe tbody tr th {\n",
       "        vertical-align: top;\n",
       "    }\n",
       "\n",
       "    .dataframe thead th {\n",
       "        text-align: right;\n",
       "    }\n",
       "</style>\n",
       "<table border=\"1\" class=\"dataframe\">\n",
       "  <thead>\n",
       "    <tr style=\"text-align: right;\">\n",
       "      <th></th>\n",
       "      <th>600199</th>\n",
       "      <th>600702</th>\n",
       "    </tr>\n",
       "    <tr>\n",
       "      <th>date</th>\n",
       "      <th></th>\n",
       "      <th></th>\n",
       "    </tr>\n",
       "  </thead>\n",
       "  <tbody>\n",
       "    <tr>\n",
       "      <th>2018-01-02</th>\n",
       "      <td>7.758</td>\n",
       "      <td>45.771</td>\n",
       "    </tr>\n",
       "    <tr>\n",
       "      <th>2018-01-03</th>\n",
       "      <td>7.808</td>\n",
       "      <td>45.442</td>\n",
       "    </tr>\n",
       "    <tr>\n",
       "      <th>2018-01-04</th>\n",
       "      <td>7.897</td>\n",
       "      <td>45.861</td>\n",
       "    </tr>\n",
       "    <tr>\n",
       "      <th>2018-01-05</th>\n",
       "      <td>7.847</td>\n",
       "      <td>45.242</td>\n",
       "    </tr>\n",
       "    <tr>\n",
       "      <th>2018-01-08</th>\n",
       "      <td>7.897</td>\n",
       "      <td>43.874</td>\n",
       "    </tr>\n",
       "  </tbody>\n",
       "</table>\n",
       "</div>"
      ],
      "text/plain": [
       "            600199  600702\n",
       "date                      \n",
       "2018-01-02   7.758  45.771\n",
       "2018-01-03   7.808  45.442\n",
       "2018-01-04   7.897  45.861\n",
       "2018-01-05   7.847  45.242\n",
       "2018-01-08   7.897  43.874"
      ]
     },
     "execution_count": 12,
     "metadata": {},
     "output_type": "execute_result"
    }
   ],
   "source": [
    "data.head()"
   ]
  },
  {
   "cell_type": "code",
   "execution_count": 15,
   "metadata": {
    "scrolled": false
   },
   "outputs": [
    {
     "data": {
      "text/plain": [
       "<matplotlib.axes._subplots.AxesSubplot at 0x262082728d0>"
      ]
     },
     "execution_count": 15,
     "metadata": {},
     "output_type": "execute_result"
    },
    {
     "data": {
      "image/png": "[encoded data removed]",
      "text/plain": [
       "<Figure size 720x432 with 1 Axes>"
      ]
     },
     "metadata": {},
     "output_type": "display_data"
    }
   ],
   "source": [
    "sns.set()\n",
    "data.plot(figsize=(10,6))"
   ]
  },
  {
   "cell_type": "markdown",
   "metadata": {},
   "source": [
    "## 策略开发"
   ]
  },
  {
   "cell_type": "code",
   "execution_count": 16,
   "metadata": {
    "collapsed": true
   },
   "outputs": [],
   "source": [
    "data['priceDelta'] = data['600199']-data['600702']    #计算价差"
   ]
  },
  {
   "cell_type": "code",
   "execution_count": 17,
   "metadata": {},
   "outputs": [
    {
     "data": {
      "text/plain": [
       "Text(0, 0.5, 'Spread')"
      ]
     },
     "execution_count": 17,
     "metadata": {},
     "output_type": "execute_result"
    },
    {
     "data": {
      "image/png": "[encoded data removed]",
      "text/plain": [
       "<Figure size 720x432 with 1 Axes>"
      ]
     },
     "metadata": {},
     "output_type": "display_data"
    }
   ],
   "source": [
    "data['priceDelta'].plot(figsize=(10,6))             #将价差跟均值画出来\n",
    "plt.axhline(data['priceDelta'].mean(), color='r')\n",
    "plt.ylabel('Spread')"
   ]
  },
  {
   "cell_type": "code",
   "execution_count": 18,
   "metadata": {
    "collapsed": true
   },
   "outputs": [],
   "source": [
    "data['zscore'] = (data['priceDelta']-data['priceDelta'].mean())/np.std(data['priceDelta'])      #归一化差值，跟标准差做比较"
   ]
  },
  {
   "cell_type": "code",
   "execution_count": 19,
   "metadata": {},
   "outputs": [
    {
     "data": {
      "text/html": [
       "<div>\n",
       "<style scoped>\n",
       "    .dataframe tbody tr th:only-of-type {\n",
       "        vertical-align: middle;\n",
       "    }\n",
       "\n",
       "    .dataframe tbody tr th {\n",
       "        vertical-align: top;\n",
       "    }\n",
       "\n",
       "    .dataframe thead th {\n",
       "        text-align: right;\n",
       "    }\n",
       "</style>\n",
       "<table border=\"1\" class=\"dataframe\">\n",
       "  <thead>\n",
       "    <tr style=\"text-align: right;\">\n",
       "      <th></th>\n",
       "      <th>600199</th>\n",
       "      <th>600702</th>\n",
       "      <th>priceDelta</th>\n",
       "      <th>zscore</th>\n",
       "    </tr>\n",
       "    <tr>\n",
       "      <th>date</th>\n",
       "      <th></th>\n",
       "      <th></th>\n",
       "      <th></th>\n",
       "      <th></th>\n",
       "    </tr>\n",
       "  </thead>\n",
       "  <tbody>\n",
       "    <tr>\n",
       "      <th>2018-01-02</th>\n",
       "      <td>7.758</td>\n",
       "      <td>45.771</td>\n",
       "      <td>-38.013</td>\n",
       "      <td>-1.895535</td>\n",
       "    </tr>\n",
       "    <tr>\n",
       "      <th>2018-01-03</th>\n",
       "      <td>7.808</td>\n",
       "      <td>45.442</td>\n",
       "      <td>-37.634</td>\n",
       "      <td>-1.838919</td>\n",
       "    </tr>\n",
       "    <tr>\n",
       "      <th>2018-01-04</th>\n",
       "      <td>7.897</td>\n",
       "      <td>45.861</td>\n",
       "      <td>-37.964</td>\n",
       "      <td>-1.888215</td>\n",
       "    </tr>\n",
       "    <tr>\n",
       "      <th>2018-01-05</th>\n",
       "      <td>7.847</td>\n",
       "      <td>45.242</td>\n",
       "      <td>-37.395</td>\n",
       "      <td>-1.803218</td>\n",
       "    </tr>\n",
       "    <tr>\n",
       "      <th>2018-01-08</th>\n",
       "      <td>7.897</td>\n",
       "      <td>43.874</td>\n",
       "      <td>-35.977</td>\n",
       "      <td>-1.591397</td>\n",
       "    </tr>\n",
       "    <tr>\n",
       "      <th>2018-01-09</th>\n",
       "      <td>8.187</td>\n",
       "      <td>43.295</td>\n",
       "      <td>-35.108</td>\n",
       "      <td>-1.461585</td>\n",
       "    </tr>\n",
       "    <tr>\n",
       "      <th>2018-01-10</th>\n",
       "      <td>8.097</td>\n",
       "      <td>44.044</td>\n",
       "      <td>-35.947</td>\n",
       "      <td>-1.586915</td>\n",
       "    </tr>\n",
       "    <tr>\n",
       "      <th>2018-01-11</th>\n",
       "      <td>8.007</td>\n",
       "      <td>44.284</td>\n",
       "      <td>-36.277</td>\n",
       "      <td>-1.636211</td>\n",
       "    </tr>\n",
       "    <tr>\n",
       "      <th>2018-01-12</th>\n",
       "      <td>8.017</td>\n",
       "      <td>45.871</td>\n",
       "      <td>-37.854</td>\n",
       "      <td>-1.871783</td>\n",
       "    </tr>\n",
       "    <tr>\n",
       "      <th>2018-01-15</th>\n",
       "      <td>7.828</td>\n",
       "      <td>47.159</td>\n",
       "      <td>-39.331</td>\n",
       "      <td>-2.092417</td>\n",
       "    </tr>\n",
       "  </tbody>\n",
       "</table>\n",
       "</div>"
      ],
      "text/plain": [
       "            600199  600702  priceDelta    zscore\n",
       "date                                            \n",
       "2018-01-02   7.758  45.771     -38.013 -1.895535\n",
       "2018-01-03   7.808  45.442     -37.634 -1.838919\n",
       "2018-01-04   7.897  45.861     -37.964 -1.888215\n",
       "2018-01-05   7.847  45.242     -37.395 -1.803218\n",
       "2018-01-08   7.897  43.874     -35.977 -1.591397\n",
       "2018-01-09   8.187  43.295     -35.108 -1.461585\n",
       "2018-01-10   8.097  44.044     -35.947 -1.586915\n",
       "2018-01-11   8.007  44.284     -36.277 -1.636211\n",
       "2018-01-12   8.017  45.871     -37.854 -1.871783\n",
       "2018-01-15   7.828  47.159     -39.331 -2.092417"
      ]
     },
     "execution_count": 19,
     "metadata": {},
     "output_type": "execute_result"
    }
   ],
   "source": [
    "data.head(10)"
   ]
  },
  {
   "cell_type": "code",
   "execution_count": 20,
   "metadata": {
    "scrolled": true
   },
   "outputs": [
    {
     "data": {
      "text/html": [
       "<div>\n",
       "<style scoped>\n",
       "    .dataframe tbody tr th:only-of-type {\n",
       "        vertical-align: middle;\n",
       "    }\n",
       "\n",
       "    .dataframe tbody tr th {\n",
       "        vertical-align: top;\n",
       "    }\n",
       "\n",
       "    .dataframe thead th {\n",
       "        text-align: right;\n",
       "    }\n",
       "</style>\n",
       "<table border=\"1\" class=\"dataframe\">\n",
       "  <thead>\n",
       "    <tr style=\"text-align: right;\">\n",
       "      <th></th>\n",
       "      <th>600199</th>\n",
       "      <th>600702</th>\n",
       "      <th>priceDelta</th>\n",
       "      <th>zscore</th>\n",
       "    </tr>\n",
       "    <tr>\n",
       "      <th>date</th>\n",
       "      <th></th>\n",
       "      <th></th>\n",
       "      <th></th>\n",
       "      <th></th>\n",
       "    </tr>\n",
       "  </thead>\n",
       "  <tbody>\n",
       "    <tr>\n",
       "      <th>2018-01-02</th>\n",
       "      <td>7.758</td>\n",
       "      <td>45.771</td>\n",
       "      <td>-38.013</td>\n",
       "      <td>-1.895535</td>\n",
       "    </tr>\n",
       "    <tr>\n",
       "      <th>2018-01-03</th>\n",
       "      <td>7.808</td>\n",
       "      <td>45.442</td>\n",
       "      <td>-37.634</td>\n",
       "      <td>-1.838919</td>\n",
       "    </tr>\n",
       "    <tr>\n",
       "      <th>2018-01-04</th>\n",
       "      <td>7.897</td>\n",
       "      <td>45.861</td>\n",
       "      <td>-37.964</td>\n",
       "      <td>-1.888215</td>\n",
       "    </tr>\n",
       "    <tr>\n",
       "      <th>2018-01-05</th>\n",
       "      <td>7.847</td>\n",
       "      <td>45.242</td>\n",
       "      <td>-37.395</td>\n",
       "      <td>-1.803218</td>\n",
       "    </tr>\n",
       "    <tr>\n",
       "      <th>2018-01-08</th>\n",
       "      <td>7.897</td>\n",
       "      <td>43.874</td>\n",
       "      <td>-35.977</td>\n",
       "      <td>-1.591397</td>\n",
       "    </tr>\n",
       "    <tr>\n",
       "      <th>2018-01-10</th>\n",
       "      <td>8.097</td>\n",
       "      <td>44.044</td>\n",
       "      <td>-35.947</td>\n",
       "      <td>-1.586915</td>\n",
       "    </tr>\n",
       "    <tr>\n",
       "      <th>2018-01-11</th>\n",
       "      <td>8.007</td>\n",
       "      <td>44.284</td>\n",
       "      <td>-36.277</td>\n",
       "      <td>-1.636211</td>\n",
       "    </tr>\n",
       "    <tr>\n",
       "      <th>2018-01-12</th>\n",
       "      <td>8.017</td>\n",
       "      <td>45.871</td>\n",
       "      <td>-37.854</td>\n",
       "      <td>-1.871783</td>\n",
       "    </tr>\n",
       "    <tr>\n",
       "      <th>2018-01-15</th>\n",
       "      <td>7.828</td>\n",
       "      <td>47.159</td>\n",
       "      <td>-39.331</td>\n",
       "      <td>-2.092417</td>\n",
       "    </tr>\n",
       "    <tr>\n",
       "      <th>2018-01-16</th>\n",
       "      <td>8.087</td>\n",
       "      <td>48.917</td>\n",
       "      <td>-40.830</td>\n",
       "      <td>-2.316338</td>\n",
       "    </tr>\n",
       "  </tbody>\n",
       "</table>\n",
       "</div>"
      ],
      "text/plain": [
       "            600199  600702  priceDelta    zscore\n",
       "date                                            \n",
       "2018-01-02   7.758  45.771     -38.013 -1.895535\n",
       "2018-01-03   7.808  45.442     -37.634 -1.838919\n",
       "2018-01-04   7.897  45.861     -37.964 -1.888215\n",
       "2018-01-05   7.847  45.242     -37.395 -1.803218\n",
       "2018-01-08   7.897  43.874     -35.977 -1.591397\n",
       "2018-01-10   8.097  44.044     -35.947 -1.586915\n",
       "2018-01-11   8.007  44.284     -36.277 -1.636211\n",
       "2018-01-12   8.017  45.871     -37.854 -1.871783\n",
       "2018-01-15   7.828  47.159     -39.331 -2.092417\n",
       "2018-01-16   8.087  48.917     -40.830 -2.316338"
      ]
     },
     "execution_count": 20,
     "metadata": {},
     "output_type": "execute_result"
    }
   ],
   "source": [
    "data[data['zscore']< -1.5].head(10)  #选出价差超过1.5个标准差的日期"
   ]
  },
  {
   "cell_type": "code",
   "execution_count": 21,
   "metadata": {},
   "outputs": [
    {
     "data": {
      "text/plain": [
       "24"
      ]
     },
     "execution_count": 21,
     "metadata": {},
     "output_type": "execute_result"
    }
   ],
   "source": [
    "len(data[data['zscore']< -1.5])   "
   ]
  },
  {
   "cell_type": "markdown",
   "metadata": {},
   "source": [
    "## 产生交易信号"
   ]
  },
  {
   "cell_type": "code",
   "execution_count": 22,
   "metadata": {
    "collapsed": true
   },
   "outputs": [],
   "source": [
    "data['position_1'] = np.where(data['zscore'] >1.5, -1,np.nan)\n",
    "data['position_1'] = np.where(data['zscore'] <-1.5, 1,data['position_1'])\n",
    "data['position_1'] = np.where(abs(data['zscore'])<0.5 ,0,data['position_1'])"
   ]
  },
  {
   "cell_type": "code",
   "execution_count": 23,
   "metadata": {
    "collapsed": true
   },
   "outputs": [
    {
     "data": {
      "text/html": [
       "<div>\n",
       "<style scoped>\n",
       "    .dataframe tbody tr th:only-of-type {\n",
       "        vertical-align: middle;\n",
       "    }\n",
       "\n",
       "    .dataframe tbody tr th {\n",
       "        vertical-align: top;\n",
       "    }\n",
       "\n",
       "    .dataframe thead th {\n",
       "        text-align: right;\n",
       "    }\n",
       "</style>\n",
       "<table border=\"1\" class=\"dataframe\">\n",
       "  <thead>\n",
       "    <tr style=\"text-align: right;\">\n",
       "      <th></th>\n",
       "      <th>600199</th>\n",
       "      <th>600702</th>\n",
       "      <th>priceDelta</th>\n",
       "      <th>zscore</th>\n",
       "      <th>position_1</th>\n",
       "    </tr>\n",
       "    <tr>\n",
       "      <th>date</th>\n",
       "      <th></th>\n",
       "      <th></th>\n",
       "      <th></th>\n",
       "      <th></th>\n",
       "      <th></th>\n",
       "    </tr>\n",
       "  </thead>\n",
       "  <tbody>\n",
       "    <tr>\n",
       "      <th>2018-01-02</th>\n",
       "      <td>7.758</td>\n",
       "      <td>45.771</td>\n",
       "      <td>-38.013</td>\n",
       "      <td>-1.895535</td>\n",
       "      <td>1.0</td>\n",
       "    </tr>\n",
       "    <tr>\n",
       "      <th>2018-01-03</th>\n",
       "      <td>7.808</td>\n",
       "      <td>45.442</td>\n",
       "      <td>-37.634</td>\n",
       "      <td>-1.838919</td>\n",
       "      <td>1.0</td>\n",
       "    </tr>\n",
       "    <tr>\n",
       "      <th>2018-01-04</th>\n",
       "      <td>7.897</td>\n",
       "      <td>45.861</td>\n",
       "      <td>-37.964</td>\n",
       "      <td>-1.888215</td>\n",
       "      <td>1.0</td>\n",
       "    </tr>\n",
       "    <tr>\n",
       "      <th>2018-01-05</th>\n",
       "      <td>7.847</td>\n",
       "      <td>45.242</td>\n",
       "      <td>-37.395</td>\n",
       "      <td>-1.803218</td>\n",
       "      <td>1.0</td>\n",
       "    </tr>\n",
       "    <tr>\n",
       "      <th>2018-01-08</th>\n",
       "      <td>7.897</td>\n",
       "      <td>43.874</td>\n",
       "      <td>-35.977</td>\n",
       "      <td>-1.591397</td>\n",
       "      <td>1.0</td>\n",
       "    </tr>\n",
       "    <tr>\n",
       "      <th>2018-01-09</th>\n",
       "      <td>8.187</td>\n",
       "      <td>43.295</td>\n",
       "      <td>-35.108</td>\n",
       "      <td>-1.461585</td>\n",
       "      <td>NaN</td>\n",
       "    </tr>\n",
       "    <tr>\n",
       "      <th>2018-01-10</th>\n",
       "      <td>8.097</td>\n",
       "      <td>44.044</td>\n",
       "      <td>-35.947</td>\n",
       "      <td>-1.586915</td>\n",
       "      <td>1.0</td>\n",
       "    </tr>\n",
       "    <tr>\n",
       "      <th>2018-01-11</th>\n",
       "      <td>8.007</td>\n",
       "      <td>44.284</td>\n",
       "      <td>-36.277</td>\n",
       "      <td>-1.636211</td>\n",
       "      <td>1.0</td>\n",
       "    </tr>\n",
       "    <tr>\n",
       "      <th>2018-01-12</th>\n",
       "      <td>8.017</td>\n",
       "      <td>45.871</td>\n",
       "      <td>-37.854</td>\n",
       "      <td>-1.871783</td>\n",
       "      <td>1.0</td>\n",
       "    </tr>\n",
       "    <tr>\n",
       "      <th>2018-01-15</th>\n",
       "      <td>7.828</td>\n",
       "      <td>47.159</td>\n",
       "      <td>-39.331</td>\n",
       "      <td>-2.092417</td>\n",
       "      <td>1.0</td>\n",
       "    </tr>\n",
       "    <tr>\n",
       "      <th>2018-01-16</th>\n",
       "      <td>8.087</td>\n",
       "      <td>48.917</td>\n",
       "      <td>-40.830</td>\n",
       "      <td>-2.316338</td>\n",
       "      <td>1.0</td>\n",
       "    </tr>\n",
       "    <tr>\n",
       "      <th>2018-01-17</th>\n",
       "      <td>7.967</td>\n",
       "      <td>46.880</td>\n",
       "      <td>-38.913</td>\n",
       "      <td>-2.029977</td>\n",
       "      <td>1.0</td>\n",
       "    </tr>\n",
       "    <tr>\n",
       "      <th>2018-01-18</th>\n",
       "      <td>8.127</td>\n",
       "      <td>48.617</td>\n",
       "      <td>-40.490</td>\n",
       "      <td>-2.265549</td>\n",
       "      <td>1.0</td>\n",
       "    </tr>\n",
       "    <tr>\n",
       "      <th>2018-01-19</th>\n",
       "      <td>8.037</td>\n",
       "      <td>47.768</td>\n",
       "      <td>-39.731</td>\n",
       "      <td>-2.152170</td>\n",
       "      <td>1.0</td>\n",
       "    </tr>\n",
       "    <tr>\n",
       "      <th>2018-01-22</th>\n",
       "      <td>8.167</td>\n",
       "      <td>50.334</td>\n",
       "      <td>-42.167</td>\n",
       "      <td>-2.516059</td>\n",
       "      <td>1.0</td>\n",
       "    </tr>\n",
       "    <tr>\n",
       "      <th>2018-01-23</th>\n",
       "      <td>8.157</td>\n",
       "      <td>50.245</td>\n",
       "      <td>-42.088</td>\n",
       "      <td>-2.504258</td>\n",
       "      <td>1.0</td>\n",
       "    </tr>\n",
       "    <tr>\n",
       "      <th>2018-01-24</th>\n",
       "      <td>8.087</td>\n",
       "      <td>49.376</td>\n",
       "      <td>-41.289</td>\n",
       "      <td>-2.384904</td>\n",
       "      <td>1.0</td>\n",
       "    </tr>\n",
       "    <tr>\n",
       "      <th>2018-01-25</th>\n",
       "      <td>8.007</td>\n",
       "      <td>48.178</td>\n",
       "      <td>-40.171</td>\n",
       "      <td>-2.217897</td>\n",
       "      <td>1.0</td>\n",
       "    </tr>\n",
       "    <tr>\n",
       "      <th>2018-01-26</th>\n",
       "      <td>7.967</td>\n",
       "      <td>49.266</td>\n",
       "      <td>-41.299</td>\n",
       "      <td>-2.386397</td>\n",
       "      <td>1.0</td>\n",
       "    </tr>\n",
       "    <tr>\n",
       "      <th>2018-01-29</th>\n",
       "      <td>7.678</td>\n",
       "      <td>44.343</td>\n",
       "      <td>-36.665</td>\n",
       "      <td>-1.694170</td>\n",
       "      <td>1.0</td>\n",
       "    </tr>\n",
       "    <tr>\n",
       "      <th>2018-01-30</th>\n",
       "      <td>7.678</td>\n",
       "      <td>42.746</td>\n",
       "      <td>-35.068</td>\n",
       "      <td>-1.455610</td>\n",
       "      <td>NaN</td>\n",
       "    </tr>\n",
       "    <tr>\n",
       "      <th>2018-01-31</th>\n",
       "      <td>7.458</td>\n",
       "      <td>43.395</td>\n",
       "      <td>-35.937</td>\n",
       "      <td>-1.585421</td>\n",
       "      <td>1.0</td>\n",
       "    </tr>\n",
       "    <tr>\n",
       "      <th>2018-02-01</th>\n",
       "      <td>6.969</td>\n",
       "      <td>41.158</td>\n",
       "      <td>-34.189</td>\n",
       "      <td>-1.324305</td>\n",
       "      <td>NaN</td>\n",
       "    </tr>\n",
       "    <tr>\n",
       "      <th>2018-02-02</th>\n",
       "      <td>6.859</td>\n",
       "      <td>40.839</td>\n",
       "      <td>-33.980</td>\n",
       "      <td>-1.293085</td>\n",
       "      <td>NaN</td>\n",
       "    </tr>\n",
       "    <tr>\n",
       "      <th>2018-02-05</th>\n",
       "      <td>6.899</td>\n",
       "      <td>36.775</td>\n",
       "      <td>-29.876</td>\n",
       "      <td>-0.680029</td>\n",
       "      <td>NaN</td>\n",
       "    </tr>\n",
       "    <tr>\n",
       "      <th>2018-02-06</th>\n",
       "      <td>6.659</td>\n",
       "      <td>36.625</td>\n",
       "      <td>-29.966</td>\n",
       "      <td>-0.693473</td>\n",
       "      <td>NaN</td>\n",
       "    </tr>\n",
       "    <tr>\n",
       "      <th>2018-02-07</th>\n",
       "      <td>6.669</td>\n",
       "      <td>35.706</td>\n",
       "      <td>-29.037</td>\n",
       "      <td>-0.554699</td>\n",
       "      <td>NaN</td>\n",
       "    </tr>\n",
       "    <tr>\n",
       "      <th>2018-02-08</th>\n",
       "      <td>6.729</td>\n",
       "      <td>38.203</td>\n",
       "      <td>-31.474</td>\n",
       "      <td>-0.918738</td>\n",
       "      <td>NaN</td>\n",
       "    </tr>\n",
       "    <tr>\n",
       "      <th>2018-02-09</th>\n",
       "      <td>6.639</td>\n",
       "      <td>37.544</td>\n",
       "      <td>-30.905</td>\n",
       "      <td>-0.833741</td>\n",
       "      <td>NaN</td>\n",
       "    </tr>\n",
       "    <tr>\n",
       "      <th>2018-02-12</th>\n",
       "      <td>6.769</td>\n",
       "      <td>38.332</td>\n",
       "      <td>-31.563</td>\n",
       "      <td>-0.932033</td>\n",
       "      <td>NaN</td>\n",
       "    </tr>\n",
       "    <tr>\n",
       "      <th>2018-02-13</th>\n",
       "      <td>6.729</td>\n",
       "      <td>37.893</td>\n",
       "      <td>-31.164</td>\n",
       "      <td>-0.872430</td>\n",
       "      <td>NaN</td>\n",
       "    </tr>\n",
       "    <tr>\n",
       "      <th>2018-02-14</th>\n",
       "      <td>6.779</td>\n",
       "      <td>38.303</td>\n",
       "      <td>-31.524</td>\n",
       "      <td>-0.926207</td>\n",
       "      <td>NaN</td>\n",
       "    </tr>\n",
       "    <tr>\n",
       "      <th>2018-02-22</th>\n",
       "      <td>6.849</td>\n",
       "      <td>40.479</td>\n",
       "      <td>-33.630</td>\n",
       "      <td>-1.240802</td>\n",
       "      <td>NaN</td>\n",
       "    </tr>\n",
       "    <tr>\n",
       "      <th>2018-02-23</th>\n",
       "      <td>6.819</td>\n",
       "      <td>40.519</td>\n",
       "      <td>-33.700</td>\n",
       "      <td>-1.251258</td>\n",
       "      <td>NaN</td>\n",
       "    </tr>\n",
       "    <tr>\n",
       "      <th>2018-02-26</th>\n",
       "      <td>6.949</td>\n",
       "      <td>40.429</td>\n",
       "      <td>-33.480</td>\n",
       "      <td>-1.218395</td>\n",
       "      <td>NaN</td>\n",
       "    </tr>\n",
       "    <tr>\n",
       "      <th>2018-02-27</th>\n",
       "      <td>6.879</td>\n",
       "      <td>41.588</td>\n",
       "      <td>-34.709</td>\n",
       "      <td>-1.401983</td>\n",
       "      <td>NaN</td>\n",
       "    </tr>\n",
       "    <tr>\n",
       "      <th>2018-02-28</th>\n",
       "      <td>6.879</td>\n",
       "      <td>39.760</td>\n",
       "      <td>-32.881</td>\n",
       "      <td>-1.128916</td>\n",
       "      <td>NaN</td>\n",
       "    </tr>\n",
       "    <tr>\n",
       "      <th>2018-03-01</th>\n",
       "      <td>6.919</td>\n",
       "      <td>39.870</td>\n",
       "      <td>-32.951</td>\n",
       "      <td>-1.139373</td>\n",
       "      <td>NaN</td>\n",
       "    </tr>\n",
       "    <tr>\n",
       "      <th>2018-03-02</th>\n",
       "      <td>6.839</td>\n",
       "      <td>39.261</td>\n",
       "      <td>-32.422</td>\n",
       "      <td>-1.060350</td>\n",
       "      <td>NaN</td>\n",
       "    </tr>\n",
       "    <tr>\n",
       "      <th>2018-03-05</th>\n",
       "      <td>6.779</td>\n",
       "      <td>38.932</td>\n",
       "      <td>-32.153</td>\n",
       "      <td>-1.020167</td>\n",
       "      <td>NaN</td>\n",
       "    </tr>\n",
       "    <tr>\n",
       "      <th>2018-03-06</th>\n",
       "      <td>6.889</td>\n",
       "      <td>39.571</td>\n",
       "      <td>-32.682</td>\n",
       "      <td>-1.099189</td>\n",
       "      <td>NaN</td>\n",
       "    </tr>\n",
       "    <tr>\n",
       "      <th>2018-03-07</th>\n",
       "      <td>6.999</td>\n",
       "      <td>39.451</td>\n",
       "      <td>-32.452</td>\n",
       "      <td>-1.064832</td>\n",
       "      <td>NaN</td>\n",
       "    </tr>\n",
       "    <tr>\n",
       "      <th>2018-03-08</th>\n",
       "      <td>6.989</td>\n",
       "      <td>40.170</td>\n",
       "      <td>-33.181</td>\n",
       "      <td>-1.173730</td>\n",
       "      <td>NaN</td>\n",
       "    </tr>\n",
       "    <tr>\n",
       "      <th>2018-03-09</th>\n",
       "      <td>7.019</td>\n",
       "      <td>40.779</td>\n",
       "      <td>-33.760</td>\n",
       "      <td>-1.260221</td>\n",
       "      <td>NaN</td>\n",
       "    </tr>\n",
       "    <tr>\n",
       "      <th>2018-03-12</th>\n",
       "      <td>7.039</td>\n",
       "      <td>40.729</td>\n",
       "      <td>-33.690</td>\n",
       "      <td>-1.249764</td>\n",
       "      <td>NaN</td>\n",
       "    </tr>\n",
       "    <tr>\n",
       "      <th>2018-03-13</th>\n",
       "      <td>6.979</td>\n",
       "      <td>40.399</td>\n",
       "      <td>-33.420</td>\n",
       "      <td>-1.209432</td>\n",
       "      <td>NaN</td>\n",
       "    </tr>\n",
       "    <tr>\n",
       "      <th>2018-03-14</th>\n",
       "      <td>6.929</td>\n",
       "      <td>40.859</td>\n",
       "      <td>-33.930</td>\n",
       "      <td>-1.285616</td>\n",
       "      <td>NaN</td>\n",
       "    </tr>\n",
       "    <tr>\n",
       "      <th>2018-03-15</th>\n",
       "      <td>7.059</td>\n",
       "      <td>41.248</td>\n",
       "      <td>-34.189</td>\n",
       "      <td>-1.324305</td>\n",
       "      <td>NaN</td>\n",
       "    </tr>\n",
       "    <tr>\n",
       "      <th>2018-03-16</th>\n",
       "      <td>6.969</td>\n",
       "      <td>40.759</td>\n",
       "      <td>-33.790</td>\n",
       "      <td>-1.264702</td>\n",
       "      <td>NaN</td>\n",
       "    </tr>\n",
       "    <tr>\n",
       "      <th>2018-03-19</th>\n",
       "      <td>7.119</td>\n",
       "      <td>41.038</td>\n",
       "      <td>-33.919</td>\n",
       "      <td>-1.283972</td>\n",
       "      <td>NaN</td>\n",
       "    </tr>\n",
       "  </tbody>\n",
       "</table>\n",
       "</div>"
      ],
      "text/plain": [
       "            600199  600702  priceDelta    zscore  position_1\n",
       "date                                                        \n",
       "2018-01-02   7.758  45.771     -38.013 -1.895535         1.0\n",
       "2018-01-03   7.808  45.442     -37.634 -1.838919         1.0\n",
       "2018-01-04   7.897  45.861     -37.964 -1.888215         1.0\n",
       "2018-01-05   7.847  45.242     -37.395 -1.803218         1.0\n",
       "2018-01-08   7.897  43.874     -35.977 -1.591397         1.0\n",
       "2018-01-09   8.187  43.295     -35.108 -1.461585         NaN\n",
       "2018-01-10   8.097  44.044     -35.947 -1.586915         1.0\n",
       "2018-01-11   8.007  44.284     -36.277 -1.636211         1.0\n",
       "2018-01-12   8.017  45.871     -37.854 -1.871783         1.0\n",
       "2018-01-15   7.828  47.159     -39.331 -2.092417         1.0\n",
       "2018-01-16   8.087  48.917     -40.830 -2.316338         1.0\n",
       "2018-01-17   7.967  46.880     -38.913 -2.029977         1.0\n",
       "2018-01-18   8.127  48.617     -40.490 -2.265549         1.0\n",
       "2018-01-19   8.037  47.768     -39.731 -2.152170         1.0\n",
       "2018-01-22   8.167  50.334     -42.167 -2.516059         1.0\n",
       "2018-01-23   8.157  50.245     -42.088 -2.504258         1.0\n",
       "2018-01-24   8.087  49.376     -41.289 -2.384904         1.0\n",
       "2018-01-25   8.007  48.178     -40.171 -2.217897         1.0\n",
       "2018-01-26   7.967  49.266     -41.299 -2.386397         1.0\n",
       "2018-01-29   7.678  44.343     -36.665 -1.694170         1.0\n",
       "2018-01-30   7.678  42.746     -35.068 -1.455610         NaN\n",
       "2018-01-31   7.458  43.395     -35.937 -1.585421         1.0\n",
       "2018-02-01   6.969  41.158     -34.189 -1.324305         NaN\n",
       "2018-02-02   6.859  40.839     -33.980 -1.293085         NaN\n",
       "2018-02-05   6.899  36.775     -29.876 -0.680029         NaN\n",
       "2018-02-06   6.659  36.625     -29.966 -0.693473         NaN\n",
       "2018-02-07   6.669  35.706     -29.037 -0.554699         NaN\n",
       "2018-02-08   6.729  38.203     -31.474 -0.918738         NaN\n",
       "2018-02-09   6.639  37.544     -30.905 -0.833741         NaN\n",
       "2018-02-12   6.769  38.332     -31.563 -0.932033         NaN\n",
       "2018-02-13   6.729  37.893     -31.164 -0.872430         NaN\n",
       "2018-02-14   6.779  38.303     -31.524 -0.926207         NaN\n",
       "2018-02-22   6.849  40.479     -33.630 -1.240802         NaN\n",
       "2018-02-23   6.819  40.519     -33.700 -1.251258         NaN\n",
       "2018-02-26   6.949  40.429     -33.480 -1.218395         NaN\n",
       "2018-02-27   6.879  41.588     -34.709 -1.401983         NaN\n",
       "2018-02-28   6.879  39.760     -32.881 -1.128916         NaN\n",
       "2018-03-01   6.919  39.870     -32.951 -1.139373         NaN\n",
       "2018-03-02   6.839  39.261     -32.422 -1.060350         NaN\n",
       "2018-03-05   6.779  38.932     -32.153 -1.020167         NaN\n",
       "2018-03-06   6.889  39.571     -32.682 -1.099189         NaN\n",
       "2018-03-07   6.999  39.451     -32.452 -1.064832         NaN\n",
       "2018-03-08   6.989  40.170     -33.181 -1.173730         NaN\n",
       "2018-03-09   7.019  40.779     -33.760 -1.260221         NaN\n",
       "2018-03-12   7.039  40.729     -33.690 -1.249764         NaN\n",
       "2018-03-13   6.979  40.399     -33.420 -1.209432         NaN\n",
       "2018-03-14   6.929  40.859     -33.930 -1.285616         NaN\n",
       "2018-03-15   7.059  41.248     -34.189 -1.324305         NaN\n",
       "2018-03-16   6.969  40.759     -33.790 -1.264702         NaN\n",
       "2018-03-19   7.119  41.038     -33.919 -1.283972         NaN"
      ]
     },
     "execution_count": 23,
     "metadata": {},
     "output_type": "execute_result"
    }
   ],
   "source": [
    "data.head(50)"
   ]
  },
  {
   "cell_type": "code",
   "execution_count": 24,
   "metadata": {
    "collapsed": true
   },
   "outputs": [],
   "source": [
    "data['position_1'] = data['position_1'].ffill()"
   ]
  },
  {
   "cell_type": "code",
   "execution_count": 26,
   "metadata": {},
   "outputs": [
    {
     "data": {
      "text/plain": [
       "<matplotlib.axes._subplots.AxesSubplot at 0x26217c21ac8>"
      ]
     },
     "execution_count": 26,
     "metadata": {},
     "output_type": "execute_result"
    },
    {
     "data": {
      "image/png": "[encoded data removed]",
      "text/plain": [
       "<Figure size 720x432 with 1 Axes>"
      ]
     },
     "metadata": {},
     "output_type": "display_data"
    }
   ],
   "source": [
    "data['position_1'].plot(figsize=(10,6))"
   ]
  },
  {
   "cell_type": "code",
   "execution_count": 27,
   "metadata": {
    "collapsed": true
   },
   "outputs": [],
   "source": [
    "data['position_2'] =-1*np.sign(data['position_1'])"
   ]
  },
  {
   "cell_type": "code",
   "execution_count": 28,
   "metadata": {},
   "outputs": [
    {
     "data": {
      "text/plain": [
       "<matplotlib.axes._subplots.AxesSubplot at 0x26218ec1b38>"
      ]
     },
     "execution_count": 28,
     "metadata": {},
     "output_type": "execute_result"
    },
    {
     "data": {
      "image/png": "[encoded data removed]",
      "text/plain": [
       "<Figure size 720x432 with 1 Axes>"
      ]
     },
     "metadata": {},
     "output_type": "display_data"
    }
   ],
   "source": [
    "data['position_2'].plot(ylim=[-1.1, 1.1], figsize=(10,6))"
   ]
  },
  {
   "cell_type": "markdown",
   "metadata": {},
   "source": [
    "## 计算策略收益并可视化"
   ]
  },
  {
   "cell_type": "code",
   "execution_count": 29,
   "metadata": {
    "collapsed": true
   },
   "outputs": [],
   "source": [
    "data['return_1'] = np.log(data['600199']/data['600199'].shift(1))\n",
    "data['return_2'] = np.log(data['600702']/data['600702'].shift(1))"
   ]
  },
  {
   "cell_type": "code",
   "execution_count": 30,
   "metadata": {
    "collapsed": true
   },
   "outputs": [],
   "source": [
    "data['strategy'] = 0.5*data['position_1'].shift(1)*data['return_1']+0.5*data['position_2'].shift(1)*data['return_2']  #假设各持仓一半"
   ]
  },
  {
   "cell_type": "code",
   "execution_count": 31,
   "metadata": {},
   "outputs": [
    {
     "data": {
      "text/plain": [
       "<matplotlib.axes._subplots.AxesSubplot at 0x2621ee6b8d0>"
      ]
     },
     "execution_count": 31,
     "metadata": {},
     "output_type": "execute_result"
    },
    {
     "data": {
      "image/png": "[encoded data removed]",
      "text/plain": [
       "<Figure size 720x432 with 1 Axes>"
      ]
     },
     "metadata": {},
     "output_type": "display_data"
    }
   ],
   "source": [
    "data[['return_1','return_2','strategy']].cumsum().apply(np.exp).plot(figsize=(10,6))"
   ]
  }
 ],
 "metadata": {
  "kernelspec": {
   "display_name": "Python [default]",
   "language": "python",
   "name": "python3"
  },
  "language_info": {
   "codemirror_mode": {
    "name": "ipython",
    "version": 3
   },
   "file_extension": ".py",
   "mimetype": "text/x-python",
   "name": "python",
   "nbconvert_exporter": "python",
   "pygments_lexer": "ipython3",
   "version": "3.6.2"
  }
 },
 "nbformat": 4,
 "nbformat_minor": 2
}
