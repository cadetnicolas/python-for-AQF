{
 "cells": [
  {
   "cell_type": "markdown",
   "metadata": {},
   "source": [
    "1：SMA\n",
    "2：Momentum\n",
    "3：Mean Reverting\n",
    "4：Pair Trading\n",
    "\n",
    "策略的主要思路是：\n",
    "1：策略开平仓条件\n",
    "2：计算交易Position/Signal\n",
    "3：计算收益：return x position.shift(1)\n",
    "4：画图"
   ]
  },
  {
   "cell_type": "markdown",
   "metadata": {},
   "source": [
    "SMA \n",
    "LMA\n",
    "短期均线 》 长期均线 ：1\n",
    "短期均线 《 长期均线 ：1"
   ]
  },
  {
   "cell_type": "markdown",
   "metadata": {},
   "source": [
    "Momentum\n",
    "过去一段时间的MA（1，5，10...），如果是涨的认为接下来也是涨，position=1\n",
    "反之position=-1"
   ]
  },
  {
   "cell_type": "markdown",
   "metadata": {},
   "source": [
    "Mean Reverting \n",
    "股价均值回归，超过1.5倍标准差 position=-1\n",
    "低于1.5倍标准差 position=1\n",
    "绝对值在0.5倍标准差之间的时候 position=0\n",
    "其他没有值得地方用nan填充\n",
    "ffill()向前填充，因为在没有交易信号的时候是保持原来的仓位操作不变"
   ]
  },
  {
   "cell_type": "markdown",
   "metadata": {},
   "source": [
    "Pair Trading\n",
    "找出两支股票之间stationary的关系\n",
    "之后的交易思想跟Pari Trading相似"
   ]
  }
 ],
 "metadata": {
  "kernelspec": {
   "display_name": "Python [default]",
   "language": "python",
   "name": "python3"
  },
  "language_info": {
   "codemirror_mode": {
    "name": "ipython",
    "version": 3
   },
   "file_extension": ".py",
   "mimetype": "text/x-python",
   "name": "python",
   "nbconvert_exporter": "python",
   "pygments_lexer": "ipython3",
   "version": "3.6.2"
  }
 },
 "nbformat": 4,
 "nbformat_minor": 2
}
