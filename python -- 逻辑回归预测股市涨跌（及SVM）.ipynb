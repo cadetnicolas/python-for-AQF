{
 "cells": [
  {
   "cell_type": "code",
   "execution_count": 1,
   "metadata": {
    "collapsed": true
   },
   "outputs": [],
   "source": [
    "%matplotlib inline\n",
    "import pylab as plt\n",
    "import seaborn as sns\n",
    "import matplotlib as mpl\n",
    "mpl.rcParams['font.family'] = 'serif'\n",
    "import warnings;warnings.simplefilter('ignore')"
   ]
  },
  {
   "cell_type": "markdown",
   "metadata": {},
   "source": [
    "## 数据获取"
   ]
  },
  {
   "cell_type": "code",
   "execution_count": 2,
   "metadata": {
    "collapsed": true
   },
   "outputs": [],
   "source": [
    "import tushare as ts\n",
    "import numpy as np\n",
    "import pandas as pd "
   ]
  },
  {
   "cell_type": "code",
   "execution_count": 3,
   "metadata": {},
   "outputs": [
    {
     "data": {
      "text/html": [
       "<div>\n",
       "<style scoped>\n",
       "    .dataframe tbody tr th:only-of-type {\n",
       "        vertical-align: middle;\n",
       "    }\n",
       "\n",
       "    .dataframe tbody tr th {\n",
       "        vertical-align: top;\n",
       "    }\n",
       "\n",
       "    .dataframe thead th {\n",
       "        text-align: right;\n",
       "    }\n",
       "</style>\n",
       "<table border=\"1\" class=\"dataframe\">\n",
       "  <thead>\n",
       "    <tr style=\"text-align: right;\">\n",
       "      <th></th>\n",
       "      <th>date</th>\n",
       "      <th>open</th>\n",
       "      <th>close</th>\n",
       "      <th>high</th>\n",
       "      <th>low</th>\n",
       "      <th>volume</th>\n",
       "      <th>code</th>\n",
       "    </tr>\n",
       "  </thead>\n",
       "  <tbody>\n",
       "    <tr>\n",
       "      <th>0</th>\n",
       "      <td>2013-01-04</td>\n",
       "      <td>2551.81</td>\n",
       "      <td>2524.41</td>\n",
       "      <td>2558.53</td>\n",
       "      <td>2498.89</td>\n",
       "      <td>97988182.0</td>\n",
       "      <td>hs300</td>\n",
       "    </tr>\n",
       "    <tr>\n",
       "      <th>1</th>\n",
       "      <td>2013-01-07</td>\n",
       "      <td>2518.05</td>\n",
       "      <td>2535.99</td>\n",
       "      <td>2545.97</td>\n",
       "      <td>2511.60</td>\n",
       "      <td>75167993.0</td>\n",
       "      <td>hs300</td>\n",
       "    </tr>\n",
       "    <tr>\n",
       "      <th>2</th>\n",
       "      <td>2013-01-08</td>\n",
       "      <td>2534.65</td>\n",
       "      <td>2525.33</td>\n",
       "      <td>2540.51</td>\n",
       "      <td>2502.49</td>\n",
       "      <td>71837100.0</td>\n",
       "      <td>hs300</td>\n",
       "    </tr>\n",
       "    <tr>\n",
       "      <th>3</th>\n",
       "      <td>2013-01-09</td>\n",
       "      <td>2518.10</td>\n",
       "      <td>2526.13</td>\n",
       "      <td>2534.24</td>\n",
       "      <td>2504.30</td>\n",
       "      <td>70231170.0</td>\n",
       "      <td>hs300</td>\n",
       "    </tr>\n",
       "    <tr>\n",
       "      <th>4</th>\n",
       "      <td>2013-01-10</td>\n",
       "      <td>2525.59</td>\n",
       "      <td>2530.57</td>\n",
       "      <td>2553.35</td>\n",
       "      <td>2513.73</td>\n",
       "      <td>71085862.0</td>\n",
       "      <td>hs300</td>\n",
       "    </tr>\n",
       "  </tbody>\n",
       "</table>\n",
       "</div>"
      ],
      "text/plain": [
       "         date     open    close     high      low      volume   code\n",
       "0  2013-01-04  2551.81  2524.41  2558.53  2498.89  97988182.0  hs300\n",
       "1  2013-01-07  2518.05  2535.99  2545.97  2511.60  75167993.0  hs300\n",
       "2  2013-01-08  2534.65  2525.33  2540.51  2502.49  71837100.0  hs300\n",
       "3  2013-01-09  2518.10  2526.13  2534.24  2504.30  70231170.0  hs300\n",
       "4  2013-01-10  2525.59  2530.57  2553.35  2513.73  71085862.0  hs300"
      ]
     },
     "execution_count": 3,
     "metadata": {},
     "output_type": "execute_result"
    }
   ],
   "source": [
    "hs300 = ts.get_k_data('hs300', '2013-01-01', '2016-06-25')     #训练集数据\n",
    "hs300.head()"
   ]
  },
  {
   "cell_type": "code",
   "execution_count": 4,
   "metadata": {
    "collapsed": true
   },
   "outputs": [],
   "source": [
    "hs300.set_index('date',inplace=True)"
   ]
  },
  {
   "cell_type": "code",
   "execution_count": 5,
   "metadata": {
    "collapsed": true
   },
   "outputs": [],
   "source": [
    "hs300['return'] = hs300['close'].pct_change()"
   ]
  },
  {
   "cell_type": "code",
   "execution_count": 6,
   "metadata": {
    "collapsed": true
   },
   "outputs": [],
   "source": [
    "hs300.dropna(inplace=True) #机器学习过程中需要去掉空值"
   ]
  },
  {
   "cell_type": "code",
   "execution_count": 7,
   "metadata": {},
   "outputs": [
    {
     "data": {
      "text/html": [
       "<div>\n",
       "<style scoped>\n",
       "    .dataframe tbody tr th:only-of-type {\n",
       "        vertical-align: middle;\n",
       "    }\n",
       "\n",
       "    .dataframe tbody tr th {\n",
       "        vertical-align: top;\n",
       "    }\n",
       "\n",
       "    .dataframe thead th {\n",
       "        text-align: right;\n",
       "    }\n",
       "</style>\n",
       "<table border=\"1\" class=\"dataframe\">\n",
       "  <thead>\n",
       "    <tr style=\"text-align: right;\">\n",
       "      <th></th>\n",
       "      <th>open</th>\n",
       "      <th>close</th>\n",
       "      <th>high</th>\n",
       "      <th>low</th>\n",
       "      <th>volume</th>\n",
       "      <th>code</th>\n",
       "      <th>return</th>\n",
       "    </tr>\n",
       "    <tr>\n",
       "      <th>date</th>\n",
       "      <th></th>\n",
       "      <th></th>\n",
       "      <th></th>\n",
       "      <th></th>\n",
       "      <th></th>\n",
       "      <th></th>\n",
       "      <th></th>\n",
       "    </tr>\n",
       "  </thead>\n",
       "  <tbody>\n",
       "    <tr>\n",
       "      <th>2013-01-07</th>\n",
       "      <td>2518.05</td>\n",
       "      <td>2535.99</td>\n",
       "      <td>2545.97</td>\n",
       "      <td>2511.60</td>\n",
       "      <td>75167993.0</td>\n",
       "      <td>hs300</td>\n",
       "      <td>0.004587</td>\n",
       "    </tr>\n",
       "    <tr>\n",
       "      <th>2013-01-08</th>\n",
       "      <td>2534.65</td>\n",
       "      <td>2525.33</td>\n",
       "      <td>2540.51</td>\n",
       "      <td>2502.49</td>\n",
       "      <td>71837100.0</td>\n",
       "      <td>hs300</td>\n",
       "      <td>-0.004203</td>\n",
       "    </tr>\n",
       "    <tr>\n",
       "      <th>2013-01-09</th>\n",
       "      <td>2518.10</td>\n",
       "      <td>2526.13</td>\n",
       "      <td>2534.24</td>\n",
       "      <td>2504.30</td>\n",
       "      <td>70231170.0</td>\n",
       "      <td>hs300</td>\n",
       "      <td>0.000317</td>\n",
       "    </tr>\n",
       "    <tr>\n",
       "      <th>2013-01-10</th>\n",
       "      <td>2525.59</td>\n",
       "      <td>2530.57</td>\n",
       "      <td>2553.35</td>\n",
       "      <td>2513.73</td>\n",
       "      <td>71085862.0</td>\n",
       "      <td>hs300</td>\n",
       "      <td>0.001758</td>\n",
       "    </tr>\n",
       "    <tr>\n",
       "      <th>2013-01-11</th>\n",
       "      <td>2533.50</td>\n",
       "      <td>2483.23</td>\n",
       "      <td>2539.79</td>\n",
       "      <td>2473.70</td>\n",
       "      <td>74239176.0</td>\n",
       "      <td>hs300</td>\n",
       "      <td>-0.018707</td>\n",
       "    </tr>\n",
       "  </tbody>\n",
       "</table>\n",
       "</div>"
      ],
      "text/plain": [
       "               open    close     high      low      volume   code    return\n",
       "date                                                                       \n",
       "2013-01-07  2518.05  2535.99  2545.97  2511.60  75167993.0  hs300  0.004587\n",
       "2013-01-08  2534.65  2525.33  2540.51  2502.49  71837100.0  hs300 -0.004203\n",
       "2013-01-09  2518.10  2526.13  2534.24  2504.30  70231170.0  hs300  0.000317\n",
       "2013-01-10  2525.59  2530.57  2553.35  2513.73  71085862.0  hs300  0.001758\n",
       "2013-01-11  2533.50  2483.23  2539.79  2473.70  74239176.0  hs300 -0.018707"
      ]
     },
     "execution_count": 7,
     "metadata": {},
     "output_type": "execute_result"
    }
   ],
   "source": [
    "hs300.head()"
   ]
  },
  {
   "cell_type": "markdown",
   "metadata": {},
   "source": [
    "## 数据处理--特征工程"
   ]
  },
  {
   "cell_type": "code",
   "execution_count": 8,
   "metadata": {
    "collapsed": true
   },
   "outputs": [],
   "source": [
    "for i in range(1,8):\n",
    "    hs300['close-'+str(i)+'d'] = hs300['close'].shift(i)      #拿当天的收盘价以及过去7天的收盘价作为Featues"
   ]
  },
  {
   "cell_type": "code",
   "execution_count": 9,
   "metadata": {},
   "outputs": [
    {
     "data": {
      "text/html": [
       "<div>\n",
       "<style scoped>\n",
       "    .dataframe tbody tr th:only-of-type {\n",
       "        vertical-align: middle;\n",
       "    }\n",
       "\n",
       "    .dataframe tbody tr th {\n",
       "        vertical-align: top;\n",
       "    }\n",
       "\n",
       "    .dataframe thead th {\n",
       "        text-align: right;\n",
       "    }\n",
       "</style>\n",
       "<table border=\"1\" class=\"dataframe\">\n",
       "  <thead>\n",
       "    <tr style=\"text-align: right;\">\n",
       "      <th></th>\n",
       "      <th>open</th>\n",
       "      <th>close</th>\n",
       "      <th>high</th>\n",
       "      <th>low</th>\n",
       "      <th>volume</th>\n",
       "      <th>code</th>\n",
       "      <th>return</th>\n",
       "      <th>close-1d</th>\n",
       "      <th>close-2d</th>\n",
       "      <th>close-3d</th>\n",
       "      <th>close-4d</th>\n",
       "      <th>close-5d</th>\n",
       "      <th>close-6d</th>\n",
       "      <th>close-7d</th>\n",
       "    </tr>\n",
       "    <tr>\n",
       "      <th>date</th>\n",
       "      <th></th>\n",
       "      <th></th>\n",
       "      <th></th>\n",
       "      <th></th>\n",
       "      <th></th>\n",
       "      <th></th>\n",
       "      <th></th>\n",
       "      <th></th>\n",
       "      <th></th>\n",
       "      <th></th>\n",
       "      <th></th>\n",
       "      <th></th>\n",
       "      <th></th>\n",
       "      <th></th>\n",
       "    </tr>\n",
       "  </thead>\n",
       "  <tbody>\n",
       "    <tr>\n",
       "      <th>2013-01-07</th>\n",
       "      <td>2518.05</td>\n",
       "      <td>2535.99</td>\n",
       "      <td>2545.97</td>\n",
       "      <td>2511.60</td>\n",
       "      <td>75167993.0</td>\n",
       "      <td>hs300</td>\n",
       "      <td>0.004587</td>\n",
       "      <td>NaN</td>\n",
       "      <td>NaN</td>\n",
       "      <td>NaN</td>\n",
       "      <td>NaN</td>\n",
       "      <td>NaN</td>\n",
       "      <td>NaN</td>\n",
       "      <td>NaN</td>\n",
       "    </tr>\n",
       "    <tr>\n",
       "      <th>2013-01-08</th>\n",
       "      <td>2534.65</td>\n",
       "      <td>2525.33</td>\n",
       "      <td>2540.51</td>\n",
       "      <td>2502.49</td>\n",
       "      <td>71837100.0</td>\n",
       "      <td>hs300</td>\n",
       "      <td>-0.004203</td>\n",
       "      <td>2535.99</td>\n",
       "      <td>NaN</td>\n",
       "      <td>NaN</td>\n",
       "      <td>NaN</td>\n",
       "      <td>NaN</td>\n",
       "      <td>NaN</td>\n",
       "      <td>NaN</td>\n",
       "    </tr>\n",
       "    <tr>\n",
       "      <th>2013-01-09</th>\n",
       "      <td>2518.10</td>\n",
       "      <td>2526.13</td>\n",
       "      <td>2534.24</td>\n",
       "      <td>2504.30</td>\n",
       "      <td>70231170.0</td>\n",
       "      <td>hs300</td>\n",
       "      <td>0.000317</td>\n",
       "      <td>2525.33</td>\n",
       "      <td>2535.99</td>\n",
       "      <td>NaN</td>\n",
       "      <td>NaN</td>\n",
       "      <td>NaN</td>\n",
       "      <td>NaN</td>\n",
       "      <td>NaN</td>\n",
       "    </tr>\n",
       "    <tr>\n",
       "      <th>2013-01-10</th>\n",
       "      <td>2525.59</td>\n",
       "      <td>2530.57</td>\n",
       "      <td>2553.35</td>\n",
       "      <td>2513.73</td>\n",
       "      <td>71085862.0</td>\n",
       "      <td>hs300</td>\n",
       "      <td>0.001758</td>\n",
       "      <td>2526.13</td>\n",
       "      <td>2525.33</td>\n",
       "      <td>2535.99</td>\n",
       "      <td>NaN</td>\n",
       "      <td>NaN</td>\n",
       "      <td>NaN</td>\n",
       "      <td>NaN</td>\n",
       "    </tr>\n",
       "    <tr>\n",
       "      <th>2013-01-11</th>\n",
       "      <td>2533.50</td>\n",
       "      <td>2483.23</td>\n",
       "      <td>2539.79</td>\n",
       "      <td>2473.70</td>\n",
       "      <td>74239176.0</td>\n",
       "      <td>hs300</td>\n",
       "      <td>-0.018707</td>\n",
       "      <td>2530.57</td>\n",
       "      <td>2526.13</td>\n",
       "      <td>2525.33</td>\n",
       "      <td>2535.99</td>\n",
       "      <td>NaN</td>\n",
       "      <td>NaN</td>\n",
       "      <td>NaN</td>\n",
       "    </tr>\n",
       "  </tbody>\n",
       "</table>\n",
       "</div>"
      ],
      "text/plain": [
       "               open    close     high      low      volume   code    return  \\\n",
       "date                                                                          \n",
       "2013-01-07  2518.05  2535.99  2545.97  2511.60  75167993.0  hs300  0.004587   \n",
       "2013-01-08  2534.65  2525.33  2540.51  2502.49  71837100.0  hs300 -0.004203   \n",
       "2013-01-09  2518.10  2526.13  2534.24  2504.30  70231170.0  hs300  0.000317   \n",
       "2013-01-10  2525.59  2530.57  2553.35  2513.73  71085862.0  hs300  0.001758   \n",
       "2013-01-11  2533.50  2483.23  2539.79  2473.70  74239176.0  hs300 -0.018707   \n",
       "\n",
       "            close-1d  close-2d  close-3d  close-4d  close-5d  close-6d  \\\n",
       "date                                                                     \n",
       "2013-01-07       NaN       NaN       NaN       NaN       NaN       NaN   \n",
       "2013-01-08   2535.99       NaN       NaN       NaN       NaN       NaN   \n",
       "2013-01-09   2525.33   2535.99       NaN       NaN       NaN       NaN   \n",
       "2013-01-10   2526.13   2525.33   2535.99       NaN       NaN       NaN   \n",
       "2013-01-11   2530.57   2526.13   2525.33   2535.99       NaN       NaN   \n",
       "\n",
       "            close-7d  \n",
       "date                  \n",
       "2013-01-07       NaN  \n",
       "2013-01-08       NaN  \n",
       "2013-01-09       NaN  \n",
       "2013-01-10       NaN  \n",
       "2013-01-11       NaN  "
      ]
     },
     "execution_count": 9,
     "metadata": {},
     "output_type": "execute_result"
    }
   ],
   "source": [
    "hs300.head()"
   ]
  },
  {
   "cell_type": "code",
   "execution_count": 10,
   "metadata": {},
   "outputs": [],
   "source": [
    "hs_7d = hs300[[x for x in hs300.columns if 'close' in x]].iloc[7:]    #把所有close的列取出来，去掉前7行数据,列表解析"
   ]
  },
  {
   "cell_type": "code",
   "execution_count": 14,
   "metadata": {},
   "outputs": [
    {
     "data": {
      "text/html": [
       "<div>\n",
       "<style scoped>\n",
       "    .dataframe tbody tr th:only-of-type {\n",
       "        vertical-align: middle;\n",
       "    }\n",
       "\n",
       "    .dataframe tbody tr th {\n",
       "        vertical-align: top;\n",
       "    }\n",
       "\n",
       "    .dataframe thead th {\n",
       "        text-align: right;\n",
       "    }\n",
       "</style>\n",
       "<table border=\"1\" class=\"dataframe\">\n",
       "  <thead>\n",
       "    <tr style=\"text-align: right;\">\n",
       "      <th></th>\n",
       "      <th>close</th>\n",
       "      <th>close-1d</th>\n",
       "      <th>close-2d</th>\n",
       "      <th>close-3d</th>\n",
       "      <th>close-4d</th>\n",
       "      <th>close-5d</th>\n",
       "      <th>close-6d</th>\n",
       "      <th>close-7d</th>\n",
       "    </tr>\n",
       "    <tr>\n",
       "      <th>date</th>\n",
       "      <th></th>\n",
       "      <th></th>\n",
       "      <th></th>\n",
       "      <th></th>\n",
       "      <th></th>\n",
       "      <th></th>\n",
       "      <th></th>\n",
       "      <th></th>\n",
       "    </tr>\n",
       "  </thead>\n",
       "  <tbody>\n",
       "    <tr>\n",
       "      <th>2013-01-16</th>\n",
       "      <td>2577.09</td>\n",
       "      <td>2595.86</td>\n",
       "      <td>2577.73</td>\n",
       "      <td>2483.23</td>\n",
       "      <td>2530.57</td>\n",
       "      <td>2526.13</td>\n",
       "      <td>2525.33</td>\n",
       "      <td>2535.99</td>\n",
       "    </tr>\n",
       "    <tr>\n",
       "      <th>2013-01-17</th>\n",
       "      <td>2552.76</td>\n",
       "      <td>2577.09</td>\n",
       "      <td>2595.86</td>\n",
       "      <td>2577.73</td>\n",
       "      <td>2483.23</td>\n",
       "      <td>2530.57</td>\n",
       "      <td>2526.13</td>\n",
       "      <td>2525.33</td>\n",
       "    </tr>\n",
       "    <tr>\n",
       "      <th>2013-01-18</th>\n",
       "      <td>2595.44</td>\n",
       "      <td>2552.76</td>\n",
       "      <td>2577.09</td>\n",
       "      <td>2595.86</td>\n",
       "      <td>2577.73</td>\n",
       "      <td>2483.23</td>\n",
       "      <td>2530.57</td>\n",
       "      <td>2526.13</td>\n",
       "    </tr>\n",
       "    <tr>\n",
       "      <th>2013-01-21</th>\n",
       "      <td>2610.90</td>\n",
       "      <td>2595.44</td>\n",
       "      <td>2552.76</td>\n",
       "      <td>2577.09</td>\n",
       "      <td>2595.86</td>\n",
       "      <td>2577.73</td>\n",
       "      <td>2483.23</td>\n",
       "      <td>2530.57</td>\n",
       "    </tr>\n",
       "    <tr>\n",
       "      <th>2013-01-22</th>\n",
       "      <td>2596.90</td>\n",
       "      <td>2610.90</td>\n",
       "      <td>2595.44</td>\n",
       "      <td>2552.76</td>\n",
       "      <td>2577.09</td>\n",
       "      <td>2595.86</td>\n",
       "      <td>2577.73</td>\n",
       "      <td>2483.23</td>\n",
       "    </tr>\n",
       "    <tr>\n",
       "      <th>2013-01-23</th>\n",
       "      <td>2607.46</td>\n",
       "      <td>2596.90</td>\n",
       "      <td>2610.90</td>\n",
       "      <td>2595.44</td>\n",
       "      <td>2552.76</td>\n",
       "      <td>2577.09</td>\n",
       "      <td>2595.86</td>\n",
       "      <td>2577.73</td>\n",
       "    </tr>\n",
       "    <tr>\n",
       "      <th>2013-01-24</th>\n",
       "      <td>2582.75</td>\n",
       "      <td>2607.46</td>\n",
       "      <td>2596.90</td>\n",
       "      <td>2610.90</td>\n",
       "      <td>2595.44</td>\n",
       "      <td>2552.76</td>\n",
       "      <td>2577.09</td>\n",
       "      <td>2595.86</td>\n",
       "    </tr>\n",
       "    <tr>\n",
       "      <th>2013-01-25</th>\n",
       "      <td>2571.67</td>\n",
       "      <td>2582.75</td>\n",
       "      <td>2607.46</td>\n",
       "      <td>2596.90</td>\n",
       "      <td>2610.90</td>\n",
       "      <td>2595.44</td>\n",
       "      <td>2552.76</td>\n",
       "      <td>2577.09</td>\n",
       "    </tr>\n",
       "    <tr>\n",
       "      <th>2013-01-28</th>\n",
       "      <td>2651.86</td>\n",
       "      <td>2571.67</td>\n",
       "      <td>2582.75</td>\n",
       "      <td>2607.46</td>\n",
       "      <td>2596.90</td>\n",
       "      <td>2610.90</td>\n",
       "      <td>2595.44</td>\n",
       "      <td>2552.76</td>\n",
       "    </tr>\n",
       "    <tr>\n",
       "      <th>2013-01-29</th>\n",
       "      <td>2675.87</td>\n",
       "      <td>2651.86</td>\n",
       "      <td>2571.67</td>\n",
       "      <td>2582.75</td>\n",
       "      <td>2607.46</td>\n",
       "      <td>2596.90</td>\n",
       "      <td>2610.90</td>\n",
       "      <td>2595.44</td>\n",
       "    </tr>\n",
       "  </tbody>\n",
       "</table>\n",
       "</div>"
      ],
      "text/plain": [
       "              close  close-1d  close-2d  close-3d  close-4d  close-5d  \\\n",
       "date                                                                    \n",
       "2013-01-16  2577.09   2595.86   2577.73   2483.23   2530.57   2526.13   \n",
       "2013-01-17  2552.76   2577.09   2595.86   2577.73   2483.23   2530.57   \n",
       "2013-01-18  2595.44   2552.76   2577.09   2595.86   2577.73   2483.23   \n",
       "2013-01-21  2610.90   2595.44   2552.76   2577.09   2595.86   2577.73   \n",
       "2013-01-22  2596.90   2610.90   2595.44   2552.76   2577.09   2595.86   \n",
       "2013-01-23  2607.46   2596.90   2610.90   2595.44   2552.76   2577.09   \n",
       "2013-01-24  2582.75   2607.46   2596.90   2610.90   2595.44   2552.76   \n",
       "2013-01-25  2571.67   2582.75   2607.46   2596.90   2610.90   2595.44   \n",
       "2013-01-28  2651.86   2571.67   2582.75   2607.46   2596.90   2610.90   \n",
       "2013-01-29  2675.87   2651.86   2571.67   2582.75   2607.46   2596.90   \n",
       "\n",
       "            close-6d  close-7d  \n",
       "date                            \n",
       "2013-01-16   2525.33   2535.99  \n",
       "2013-01-17   2526.13   2525.33  \n",
       "2013-01-18   2530.57   2526.13  \n",
       "2013-01-21   2483.23   2530.57  \n",
       "2013-01-22   2577.73   2483.23  \n",
       "2013-01-23   2595.86   2577.73  \n",
       "2013-01-24   2577.09   2595.86  \n",
       "2013-01-25   2552.76   2577.09  \n",
       "2013-01-28   2595.44   2552.76  \n",
       "2013-01-29   2610.90   2595.44  "
      ]
     },
     "execution_count": 14,
     "metadata": {},
     "output_type": "execute_result"
    }
   ],
   "source": [
    "hs_7d.head(10)"
   ]
  },
  {
   "cell_type": "code",
   "execution_count": 12,
   "metadata": {
    "collapsed": true
   },
   "outputs": [],
   "source": [
    "import sklearn\n",
    "from sklearn import linear_model"
   ]
  },
  {
   "cell_type": "code",
   "execution_count": 13,
   "metadata": {},
   "outputs": [
    {
     "data": {
      "text/plain": [
       "array([[-0.48980931, -0.46439938, -0.48725759, ..., -0.55175549,\n",
       "        -0.55179996, -0.53688316],\n",
       "       [-0.52169885, -0.48899861, -0.46349982, ..., -0.54594015,\n",
       "        -0.55075231, -0.55084095],\n",
       "       [-0.4657578 , -0.52088455, -0.48809625, ..., -0.60794425,\n",
       "        -0.54493787, -0.54979346],\n",
       "       ...,\n",
       "       [ 0.24008504,  0.20458946,  0.21373415, ...,  0.22131801,\n",
       "         0.16930812,  0.1575365 ],\n",
       "       [ 0.21827485,  0.24081336,  0.20541303, ...,  0.19289619,\n",
       "         0.22220117,  0.17015874],\n",
       "       [ 0.16563679,  0.21900563,  0.24163282, ...,  0.21344634,\n",
       "         0.19378376,  0.22304383]])"
      ]
     },
     "execution_count": 13,
     "metadata": {},
     "output_type": "execute_result"
    }
   ],
   "source": [
    "X_train = hs_7d\n",
    "X_train = sklearn.preprocessing.scale(X_train)  #对特征进行标准化,在这里做不做标准化都可以，应为是同一个量纲，都是收盘价\n",
    "X_train"
   ]
  },
  {
   "cell_type": "markdown",
   "metadata": {},
   "source": [
    "## 逻辑回归预测股价趋势算法实现"
   ]
  },
  {
   "cell_type": "code",
   "execution_count": 27,
   "metadata": {},
   "outputs": [],
   "source": [
    "LR = linear_model.LogisticRegression(C=2000)     #光滑的决策边界核正确分类所有训练点的Tradeoff，c越小，复杂model的惩罚力度越大"
   ]
  },
  {
   "cell_type": "code",
   "execution_count": 28,
   "metadata": {},
   "outputs": [
    {
     "data": {
      "text/plain": [
       "array([[ 1.],\n",
       "       [ 1.],\n",
       "       [-1.],\n",
       "       [ 1.],\n",
       "       [ 1.],\n",
       "       [-1.],\n",
       "       [ 1.],\n",
       "       [-1.],\n",
       "       [-1.],\n",
       "       [ 0.]])"
      ]
     },
     "execution_count": 28,
     "metadata": {},
     "output_type": "execute_result"
    }
   ],
   "source": [
    "#计算训练集的labels\n",
    "y_train = np.sign(hs_7d['close'].pct_change().shift(-1))    #非常重要，拿到下一天的收益，用shift(-1)\n",
    "y_train.replace(to_replace = np.NAN, value=0, inplace=True)  #去掉最后一个空值\n",
    "y_train = np.array(y_train).reshape(-1,1)     #转化成ndarray,重新按照列来排序\n",
    "y_train[-10:]"
   ]
  },
  {
   "cell_type": "code",
   "execution_count": 29,
   "metadata": {
    "scrolled": true
   },
   "outputs": [
    {
     "data": {
      "text/plain": [
       "LogisticRegression(C=2000, class_weight=None, dual=False, fit_intercept=True,\n",
       "                   intercept_scaling=1, l1_ratio=None, max_iter=100,\n",
       "                   multi_class='warn', n_jobs=None, penalty='l2',\n",
       "                   random_state=None, solver='warn', tol=0.0001, verbose=0,\n",
       "                   warm_start=False)"
      ]
     },
     "execution_count": 29,
     "metadata": {},
     "output_type": "execute_result"
    }
   ],
   "source": [
    "LR.fit(X_train,y_train)   #训练器训练好了"
   ]
  },
  {
   "cell_type": "code",
   "execution_count": 30,
   "metadata": {},
   "outputs": [
    {
     "data": {
      "text/plain": [
       "0.5461077844311377"
      ]
     },
     "execution_count": 30,
     "metadata": {},
     "output_type": "execute_result"
    }
   ],
   "source": [
    "LR.score(X_train, y_train)"
   ]
  },
  {
   "cell_type": "code",
   "execution_count": 31,
   "metadata": {},
   "outputs": [],
   "source": [
    "hs300['prediction'] = np.NaN\n",
    "hs300['prediction'].ix[7:] = LR.predict(X_train)   #返回的是预测的训练集的labels"
   ]
  },
  {
   "cell_type": "code",
   "execution_count": 32,
   "metadata": {},
   "outputs": [
    {
     "data": {
      "text/plain": [
       " 1.0    572\n",
       "-1.0    263\n",
       "Name: prediction, dtype: int64"
      ]
     },
     "execution_count": 32,
     "metadata": {},
     "output_type": "execute_result"
    }
   ],
   "source": [
    "hs300['prediction'].value_counts()"
   ]
  },
  {
   "cell_type": "code",
   "execution_count": 33,
   "metadata": {},
   "outputs": [],
   "source": [
    "hs300['strategy'] = (hs300['prediction'].shift(1) * hs300['return'] + 1).cumprod()\n",
    "hs300['cum_ret'] = (hs300['return']+1).cumprod()"
   ]
  },
  {
   "cell_type": "code",
   "execution_count": 34,
   "metadata": {},
   "outputs": [
    {
     "data": {
      "text/plain": [
       "<matplotlib.axes._subplots.AxesSubplot at 0x21478521f28>"
      ]
     },
     "execution_count": 34,
     "metadata": {},
     "output_type": "execute_result"
    },
    {
     "data": {
      "image/png": "[encoded data removed]",
      "text/plain": [
       "<Figure size 720x432 with 1 Axes>"
      ]
     },
     "metadata": {},
     "output_type": "display_data"
    }
   ],
   "source": [
    "hs300[['strategy','cum_ret']].dropna().plot(figsize=(10,6))"
   ]
  },
  {
   "cell_type": "markdown",
   "metadata": {},
   "source": [
    "## 改变算法：SVM"
   ]
  },
  {
   "cell_type": "code",
   "execution_count": 35,
   "metadata": {
    "collapsed": true
   },
   "outputs": [],
   "source": [
    "X_train = hs_7d"
   ]
  },
  {
   "cell_type": "code",
   "execution_count": 39,
   "metadata": {
    "collapsed": true
   },
   "outputs": [],
   "source": [
    "from sklearn.svm import SVC\n",
    "clf_SVC = SVC(kernel = 'linear')"
   ]
  },
  {
   "cell_type": "code",
   "execution_count": 41,
   "metadata": {},
   "outputs": [
    {
     "data": {
      "text/plain": [
       "SVC(C=1.0, cache_size=200, class_weight=None, coef0=0.0,\n",
       "    decision_function_shape='ovr', degree=3, gamma='auto_deprecated',\n",
       "    kernel='linear', max_iter=-1, probability=False, random_state=None,\n",
       "    shrinking=True, tol=0.001, verbose=False)"
      ]
     },
     "execution_count": 41,
     "metadata": {},
     "output_type": "execute_result"
    }
   ],
   "source": [
    "clf_SVC.fit(X_train, y_train)"
   ]
  },
  {
   "cell_type": "code",
   "execution_count": 42,
   "metadata": {},
   "outputs": [
    {
     "data": {
      "text/plain": [
       "0.5329341317365269"
      ]
     },
     "execution_count": 42,
     "metadata": {},
     "output_type": "execute_result"
    }
   ],
   "source": [
    "clf_SVC.score(X_train, y_train)"
   ]
  },
  {
   "cell_type": "code",
   "execution_count": 43,
   "metadata": {
    "collapsed": true
   },
   "outputs": [],
   "source": [
    "hs300['prediction'] = np.NaN\n",
    "hs300['prediction'].ix[7:] = clf_SVC.predict(X_train)"
   ]
  },
  {
   "cell_type": "code",
   "execution_count": 44,
   "metadata": {
    "collapsed": true
   },
   "outputs": [],
   "source": [
    "hs300['strategy'] = (hs300['prediction'].shift(1)*hs300['return']+1).cumprod()\n",
    "hs300['cum_ret'] = (hs300['return']+1).cumprod()"
   ]
  },
  {
   "cell_type": "code",
   "execution_count": 45,
   "metadata": {},
   "outputs": [
    {
     "data": {
      "text/plain": [
       "<matplotlib.axes._subplots.AxesSubplot at 0x21405267d68>"
      ]
     },
     "execution_count": 45,
     "metadata": {},
     "output_type": "execute_result"
    },
    {
     "data": {
      "image/png": "[encoded data removed]",
      "text/plain": [
       "<Figure size 720x432 with 1 Axes>"
      ]
     },
     "metadata": {},
     "output_type": "display_data"
    }
   ],
   "source": [
    "hs300[['strategy','cum_ret']].dropna().plot(figsize=(10,6))"
   ]
  },
  {
   "cell_type": "markdown",
   "metadata": {},
   "source": [
    "## 逻辑回归算法在测试集上验证"
   ]
  },
  {
   "cell_type": "code",
   "execution_count": 46,
   "metadata": {
    "collapsed": true
   },
   "outputs": [],
   "source": [
    "hs300_test = ts.get_k_data('hs300', '2016-07-01', '2017-06-30')"
   ]
  },
  {
   "cell_type": "code",
   "execution_count": 47,
   "metadata": {
    "collapsed": true
   },
   "outputs": [],
   "source": [
    "hs300_test.set_index('date',inplace=True)"
   ]
  },
  {
   "cell_type": "code",
   "execution_count": 48,
   "metadata": {
    "collapsed": true
   },
   "outputs": [],
   "source": [
    "hs300_test['return'] = hs300_test['close'].pct_change()"
   ]
  },
  {
   "cell_type": "code",
   "execution_count": 49,
   "metadata": {
    "collapsed": true
   },
   "outputs": [],
   "source": [
    "hs300_test.dropna(inplace=True)"
   ]
  },
  {
   "cell_type": "code",
   "execution_count": 50,
   "metadata": {},
   "outputs": [
    {
     "data": {
      "text/html": [
       "<div>\n",
       "<style scoped>\n",
       "    .dataframe tbody tr th:only-of-type {\n",
       "        vertical-align: middle;\n",
       "    }\n",
       "\n",
       "    .dataframe tbody tr th {\n",
       "        vertical-align: top;\n",
       "    }\n",
       "\n",
       "    .dataframe thead th {\n",
       "        text-align: right;\n",
       "    }\n",
       "</style>\n",
       "<table border=\"1\" class=\"dataframe\">\n",
       "  <thead>\n",
       "    <tr style=\"text-align: right;\">\n",
       "      <th></th>\n",
       "      <th>open</th>\n",
       "      <th>close</th>\n",
       "      <th>high</th>\n",
       "      <th>low</th>\n",
       "      <th>volume</th>\n",
       "      <th>code</th>\n",
       "      <th>return</th>\n",
       "    </tr>\n",
       "    <tr>\n",
       "      <th>date</th>\n",
       "      <th></th>\n",
       "      <th></th>\n",
       "      <th></th>\n",
       "      <th></th>\n",
       "      <th></th>\n",
       "      <th></th>\n",
       "      <th></th>\n",
       "    </tr>\n",
       "  </thead>\n",
       "  <tbody>\n",
       "    <tr>\n",
       "      <th>2016-07-04</th>\n",
       "      <td>3136.39</td>\n",
       "      <td>3204.70</td>\n",
       "      <td>3210.60</td>\n",
       "      <td>3134.02</td>\n",
       "      <td>133310529.0</td>\n",
       "      <td>hs300</td>\n",
       "      <td>0.016010</td>\n",
       "    </tr>\n",
       "    <tr>\n",
       "      <th>2016-07-05</th>\n",
       "      <td>3199.16</td>\n",
       "      <td>3207.38</td>\n",
       "      <td>3216.70</td>\n",
       "      <td>3198.00</td>\n",
       "      <td>130226895.0</td>\n",
       "      <td>hs300</td>\n",
       "      <td>0.000836</td>\n",
       "    </tr>\n",
       "    <tr>\n",
       "      <th>2016-07-06</th>\n",
       "      <td>3197.62</td>\n",
       "      <td>3216.80</td>\n",
       "      <td>3217.52</td>\n",
       "      <td>3183.45</td>\n",
       "      <td>124897458.0</td>\n",
       "      <td>hs300</td>\n",
       "      <td>0.002937</td>\n",
       "    </tr>\n",
       "    <tr>\n",
       "      <th>2016-07-07</th>\n",
       "      <td>3206.55</td>\n",
       "      <td>3209.95</td>\n",
       "      <td>3220.54</td>\n",
       "      <td>3190.12</td>\n",
       "      <td>118595202.0</td>\n",
       "      <td>hs300</td>\n",
       "      <td>-0.002129</td>\n",
       "    </tr>\n",
       "    <tr>\n",
       "      <th>2016-07-08</th>\n",
       "      <td>3199.75</td>\n",
       "      <td>3192.28</td>\n",
       "      <td>3204.93</td>\n",
       "      <td>3183.96</td>\n",
       "      <td>89734855.0</td>\n",
       "      <td>hs300</td>\n",
       "      <td>-0.005505</td>\n",
       "    </tr>\n",
       "  </tbody>\n",
       "</table>\n",
       "</div>"
      ],
      "text/plain": [
       "               open    close     high      low       volume   code    return\n",
       "date                                                                        \n",
       "2016-07-04  3136.39  3204.70  3210.60  3134.02  133310529.0  hs300  0.016010\n",
       "2016-07-05  3199.16  3207.38  3216.70  3198.00  130226895.0  hs300  0.000836\n",
       "2016-07-06  3197.62  3216.80  3217.52  3183.45  124897458.0  hs300  0.002937\n",
       "2016-07-07  3206.55  3209.95  3220.54  3190.12  118595202.0  hs300 -0.002129\n",
       "2016-07-08  3199.75  3192.28  3204.93  3183.96   89734855.0  hs300 -0.005505"
      ]
     },
     "execution_count": 50,
     "metadata": {},
     "output_type": "execute_result"
    }
   ],
   "source": [
    "hs300_test.head()"
   ]
  },
  {
   "cell_type": "code",
   "execution_count": 51,
   "metadata": {
    "collapsed": true
   },
   "outputs": [],
   "source": [
    "for i in range(1, 8):\n",
    "    hs300_test['close-'+str(i)+'d'] = hs300_test['close'].shift(i)"
   ]
  },
  {
   "cell_type": "code",
   "execution_count": 52,
   "metadata": {
    "collapsed": true
   },
   "outputs": [],
   "source": [
    "hs_7d_test = hs300_test[[x for x in hs300_test.columns if 'close' in x]].iloc[7:]"
   ]
  },
  {
   "cell_type": "code",
   "execution_count": 53,
   "metadata": {},
   "outputs": [
    {
     "data": {
      "text/html": [
       "<div>\n",
       "<style scoped>\n",
       "    .dataframe tbody tr th:only-of-type {\n",
       "        vertical-align: middle;\n",
       "    }\n",
       "\n",
       "    .dataframe tbody tr th {\n",
       "        vertical-align: top;\n",
       "    }\n",
       "\n",
       "    .dataframe thead th {\n",
       "        text-align: right;\n",
       "    }\n",
       "</style>\n",
       "<table border=\"1\" class=\"dataframe\">\n",
       "  <thead>\n",
       "    <tr style=\"text-align: right;\">\n",
       "      <th></th>\n",
       "      <th>close</th>\n",
       "      <th>close-1d</th>\n",
       "      <th>close-2d</th>\n",
       "      <th>close-3d</th>\n",
       "      <th>close-4d</th>\n",
       "      <th>close-5d</th>\n",
       "      <th>close-6d</th>\n",
       "      <th>close-7d</th>\n",
       "    </tr>\n",
       "    <tr>\n",
       "      <th>date</th>\n",
       "      <th></th>\n",
       "      <th></th>\n",
       "      <th></th>\n",
       "      <th></th>\n",
       "      <th></th>\n",
       "      <th></th>\n",
       "      <th></th>\n",
       "      <th></th>\n",
       "    </tr>\n",
       "  </thead>\n",
       "  <tbody>\n",
       "    <tr>\n",
       "      <th>2016-07-13</th>\n",
       "      <td>3282.87</td>\n",
       "      <td>3273.18</td>\n",
       "      <td>3203.33</td>\n",
       "      <td>3192.28</td>\n",
       "      <td>3209.95</td>\n",
       "      <td>3216.80</td>\n",
       "      <td>3207.38</td>\n",
       "      <td>3204.70</td>\n",
       "    </tr>\n",
       "    <tr>\n",
       "      <th>2016-07-14</th>\n",
       "      <td>3276.76</td>\n",
       "      <td>3282.87</td>\n",
       "      <td>3273.18</td>\n",
       "      <td>3203.33</td>\n",
       "      <td>3192.28</td>\n",
       "      <td>3209.95</td>\n",
       "      <td>3216.80</td>\n",
       "      <td>3207.38</td>\n",
       "    </tr>\n",
       "    <tr>\n",
       "      <th>2016-07-15</th>\n",
       "      <td>3276.28</td>\n",
       "      <td>3276.76</td>\n",
       "      <td>3282.87</td>\n",
       "      <td>3273.18</td>\n",
       "      <td>3203.33</td>\n",
       "      <td>3192.28</td>\n",
       "      <td>3209.95</td>\n",
       "      <td>3216.80</td>\n",
       "    </tr>\n",
       "    <tr>\n",
       "      <th>2016-07-18</th>\n",
       "      <td>3262.02</td>\n",
       "      <td>3276.28</td>\n",
       "      <td>3276.76</td>\n",
       "      <td>3282.87</td>\n",
       "      <td>3273.18</td>\n",
       "      <td>3203.33</td>\n",
       "      <td>3192.28</td>\n",
       "      <td>3209.95</td>\n",
       "    </tr>\n",
       "    <tr>\n",
       "      <th>2016-07-19</th>\n",
       "      <td>3248.23</td>\n",
       "      <td>3262.02</td>\n",
       "      <td>3276.28</td>\n",
       "      <td>3276.76</td>\n",
       "      <td>3282.87</td>\n",
       "      <td>3273.18</td>\n",
       "      <td>3203.33</td>\n",
       "      <td>3192.28</td>\n",
       "    </tr>\n",
       "  </tbody>\n",
       "</table>\n",
       "</div>"
      ],
      "text/plain": [
       "              close  close-1d  close-2d  close-3d  close-4d  close-5d  \\\n",
       "date                                                                    \n",
       "2016-07-13  3282.87   3273.18   3203.33   3192.28   3209.95   3216.80   \n",
       "2016-07-14  3276.76   3282.87   3273.18   3203.33   3192.28   3209.95   \n",
       "2016-07-15  3276.28   3276.76   3282.87   3273.18   3203.33   3192.28   \n",
       "2016-07-18  3262.02   3276.28   3276.76   3282.87   3273.18   3203.33   \n",
       "2016-07-19  3248.23   3262.02   3276.28   3276.76   3282.87   3273.18   \n",
       "\n",
       "            close-6d  close-7d  \n",
       "date                            \n",
       "2016-07-13   3207.38   3204.70  \n",
       "2016-07-14   3216.80   3207.38  \n",
       "2016-07-15   3209.95   3216.80  \n",
       "2016-07-18   3192.28   3209.95  \n",
       "2016-07-19   3203.33   3192.28  "
      ]
     },
     "execution_count": 53,
     "metadata": {},
     "output_type": "execute_result"
    }
   ],
   "source": [
    "hs_7d_test.head()"
   ]
  },
  {
   "cell_type": "code",
   "execution_count": 54,
   "metadata": {},
   "outputs": [
    {
     "data": {
      "text/plain": [
       "array([[-1.08385175, -1.17718433, -1.86756949, ..., -1.7231784 ,\n",
       "        -1.81302536, -1.82902882],\n",
       "       [-1.14374988, -1.0809843 , -1.16789753, ..., -1.79379854,\n",
       "        -1.71531916, -1.80115163],\n",
       "       [-1.14845546, -1.14164294, -1.07083495, ..., -1.97596758,\n",
       "        -1.78636879, -1.70316541],\n",
       "       ...,\n",
       "       [ 2.47768491,  2.80920977,  2.78782839, ...,  2.10329923,\n",
       "         1.70429417,  1.8009343 ],\n",
       "       [ 2.69982755,  2.52577212,  2.85423963, ...,  2.12783587,\n",
       "         2.13442964,  1.72624841],\n",
       "       [ 2.67992686,  2.75073524,  2.56826061, ...,  2.46330731,\n",
       "         2.1591155 ,  2.15761663]])"
      ]
     },
     "execution_count": 54,
     "metadata": {},
     "output_type": "execute_result"
    }
   ],
   "source": [
    "X_test = hs_7d_test\n",
    "X_test = sklearn.preprocessing.scale(X_test)\n",
    "X_test"
   ]
  },
  {
   "cell_type": "code",
   "execution_count": 56,
   "metadata": {},
   "outputs": [],
   "source": [
    "hs300_test['prediction'] = np.NaN\n",
    "hs300_test['prediction'].ix[7:] = LR.predict(X_test)"
   ]
  },
  {
   "cell_type": "code",
   "execution_count": 57,
   "metadata": {},
   "outputs": [
    {
     "data": {
      "text/plain": [
       " 1.0    135\n",
       "-1.0    100\n",
       "Name: prediction, dtype: int64"
      ]
     },
     "execution_count": 57,
     "metadata": {},
     "output_type": "execute_result"
    }
   ],
   "source": [
    "hs300_test['prediction'].value_counts()"
   ]
  },
  {
   "cell_type": "code",
   "execution_count": 59,
   "metadata": {},
   "outputs": [],
   "source": [
    "hs300_test['strategy'] = (hs300_test['prediction'].shift(1) * hs300_test['return'] +1).cumprod()\n",
    "hs300_test['cum_ret'] = (hs300_test['return']+1).cumprod()"
   ]
  },
  {
   "cell_type": "code",
   "execution_count": 61,
   "metadata": {},
   "outputs": [
    {
     "data": {
      "text/plain": [
       "<matplotlib.axes._subplots.AxesSubplot at 0x214140796a0>"
      ]
     },
     "execution_count": 61,
     "metadata": {},
     "output_type": "execute_result"
    },
    {
     "data": {
      "image/png": "[encoded data removed]",
      "text/plain": [
       "<Figure size 720x432 with 1 Axes>"
      ]
     },
     "metadata": {},
     "output_type": "display_data"
    }
   ],
   "source": [
    "hs300_test[['strategy', 'cum_ret']].dropna().plot(figsize=(10,6))"
   ]
  },
  {
   "cell_type": "markdown",
   "metadata": {},
   "source": [
    "## SVM算法在测试集上验证"
   ]
  },
  {
   "cell_type": "code",
   "execution_count": 68,
   "metadata": {
    "collapsed": true
   },
   "outputs": [],
   "source": [
    "X_test = hs_7d_test"
   ]
  },
  {
   "cell_type": "code",
   "execution_count": 69,
   "metadata": {},
   "outputs": [],
   "source": [
    "hs300_test['prediciton'] = np.NaN\n",
    "hs300_test['prediciton'].ix[7:] = clf_SVC.predict(X_test)"
   ]
  },
  {
   "cell_type": "code",
   "execution_count": 70,
   "metadata": {
    "collapsed": true
   },
   "outputs": [],
   "source": [
    "hs300_test['strategy'] = (hs300_test['prediction'].shift(1) * hs300_test['return'] + 1).cumprod()\n",
    "hs300_test['cum_ret'] = (hs300_test['return'] + 1).cumprod()"
   ]
  },
  {
   "cell_type": "code",
   "execution_count": 71,
   "metadata": {},
   "outputs": [
    {
     "data": {
      "text/plain": [
       "<matplotlib.axes._subplots.AxesSubplot at 0x2141581a0b8>"
      ]
     },
     "execution_count": 71,
     "metadata": {},
     "output_type": "execute_result"
    },
    {
     "data": {
      "image/png": "[encoded data removed]",
      "text/plain": [
       "<Figure size 720x432 with 1 Axes>"
      ]
     },
     "metadata": {},
     "output_type": "display_data"
    }
   ],
   "source": [
    "sns.set()\n",
    "hs300_test[['strategy','cum_ret']].dropna().plot(figsize=(10, 6))"
   ]
  }
 ],
 "metadata": {
  "kernelspec": {
   "display_name": "Python [default]",
   "language": "python",
   "name": "python3"
  },
  "language_info": {
   "codemirror_mode": {
    "name": "ipython",
    "version": 3
   },
   "file_extension": ".py",
   "mimetype": "text/x-python",
   "name": "python",
   "nbconvert_exporter": "python",
   "pygments_lexer": "ipython3",
   "version": "3.6.2"
  }
 },
 "nbformat": 4,
 "nbformat_minor": 2
}
